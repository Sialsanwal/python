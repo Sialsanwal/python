{
 "cells": [
  {
   "cell_type": "markdown",
   "id": "2f2689a0",
   "metadata": {},
   "source": [
    "# Python-Decorators"
   ]
  },
  {
   "cell_type": "code",
   "execution_count": 1,
   "id": "36d7f71b",
   "metadata": {},
   "outputs": [],
   "source": [
    "## function copy\n",
    "## closures\n",
    "## decorators"
   ]
  },
  {
   "cell_type": "code",
   "execution_count": 4,
   "id": "2aebf5e0",
   "metadata": {},
   "outputs": [],
   "source": [
    "def welcome():\n",
    "    return\"Wecome to Programming\""
   ]
  },
  {
   "cell_type": "code",
   "execution_count": 5,
   "id": "2be73800",
   "metadata": {},
   "outputs": [
    {
     "data": {
      "text/plain": [
       "'Wecome to Programming'"
      ]
     },
     "execution_count": 5,
     "metadata": {},
     "output_type": "execute_result"
    }
   ],
   "source": [
    "welcome()"
   ]
  },
  {
   "cell_type": "code",
   "execution_count": 8,
   "id": "5e1b0659",
   "metadata": {},
   "outputs": [],
   "source": [
    "wel=welcome()\n",
    "del welcome"
   ]
  },
  {
   "cell_type": "code",
   "execution_count": 9,
   "id": "84c5a1a2",
   "metadata": {},
   "outputs": [
    {
     "data": {
      "text/plain": [
       "'Wecome to Programming'"
      ]
     },
     "execution_count": 9,
     "metadata": {},
     "output_type": "execute_result"
    }
   ],
   "source": [
    "wel"
   ]
  },
  {
   "cell_type": "code",
   "execution_count": 10,
   "id": "3fa8b12e",
   "metadata": {},
   "outputs": [
    {
     "ename": "NameError",
     "evalue": "name 'welcome' is not defined",
     "output_type": "error",
     "traceback": [
      "\u001b[1;31m---------------------------------------------------------------------------\u001b[0m",
      "\u001b[1;31mNameError\u001b[0m                                 Traceback (most recent call last)",
      "Input \u001b[1;32mIn [10]\u001b[0m, in \u001b[0;36m<cell line: 1>\u001b[1;34m()\u001b[0m\n\u001b[1;32m----> 1\u001b[0m \u001b[43mwelcome\u001b[49m()\n",
      "\u001b[1;31mNameError\u001b[0m: name 'welcome' is not defined"
     ]
    }
   ],
   "source": [
    "welcome()"
   ]
  },
  {
   "cell_type": "code",
   "execution_count": 11,
   "id": "70646153",
   "metadata": {},
   "outputs": [
    {
     "data": {
      "text/plain": [
       "'Wecome to Programming'"
      ]
     },
     "execution_count": 11,
     "metadata": {},
     "output_type": "execute_result"
    }
   ],
   "source": [
    "wel"
   ]
  },
  {
   "cell_type": "code",
   "execution_count": 13,
   "id": "f5464e45",
   "metadata": {},
   "outputs": [
    {
     "data": {
      "text/plain": [
       "str"
      ]
     },
     "execution_count": 13,
     "metadata": {},
     "output_type": "execute_result"
    }
   ],
   "source": [
    "type(wel)"
   ]
  },
  {
   "cell_type": "markdown",
   "id": "157f3aac",
   "metadata": {},
   "source": [
    "# closures\n",
    "- A function within a function"
   ]
  },
  {
   "cell_type": "code",
   "execution_count": 15,
   "id": "1d4423cf",
   "metadata": {},
   "outputs": [],
   "source": [
    "def main_welcome():\n",
    "    msg=\"Hello EveryOne\"\n",
    "    def sub_class_welcome():\n",
    "        print(\"Welcome to the subclass welcome\")\n",
    "        print (msg)\n",
    "    return sub_class_welcome()"
   ]
  },
  {
   "cell_type": "code",
   "execution_count": 16,
   "id": "cb3cb72d",
   "metadata": {},
   "outputs": [
    {
     "name": "stdout",
     "output_type": "stream",
     "text": [
      "Welcome to the subclass welcome\n",
      "Hello EveryOne\n"
     ]
    }
   ],
   "source": [
    "main_welcome()"
   ]
  },
  {
   "cell_type": "code",
   "execution_count": null,
   "id": "c3161d6c",
   "metadata": {},
   "outputs": [],
   "source": []
  }
 ],
 "metadata": {
  "kernelspec": {
   "display_name": "Python 3 (ipykernel)",
   "language": "python",
   "name": "python3"
  },
  "language_info": {
   "codemirror_mode": {
    "name": "ipython",
    "version": 3
   },
   "file_extension": ".py",
   "mimetype": "text/x-python",
   "name": "python",
   "nbconvert_exporter": "python",
   "pygments_lexer": "ipython3",
   "version": "3.9.12"
  }
 },
 "nbformat": 4,
 "nbformat_minor": 5
}
