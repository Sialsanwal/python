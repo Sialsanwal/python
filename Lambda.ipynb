{
 "cells": [
  {
   "cell_type": "markdown",
   "id": "5729e85a",
   "metadata": {},
   "source": [
    "# Lambda\n",
    "- it is also knwon as anonymous function\n",
    "- A function with no name \n",
    "- A single expression convert to lambda function"
   ]
  },
  {
   "cell_type": "code",
   "execution_count": 1,
   "id": "198c4c60",
   "metadata": {},
   "outputs": [],
   "source": [
    "def addition(a,b):\n",
    "    return a+b"
   ]
  },
  {
   "cell_type": "code",
   "execution_count": 2,
   "id": "56f2fd97",
   "metadata": {},
   "outputs": [
    {
     "data": {
      "text/plain": [
       "24"
      ]
     },
     "execution_count": 2,
     "metadata": {},
     "output_type": "execute_result"
    }
   ],
   "source": [
    "addition(12,12)"
   ]
  },
  {
   "cell_type": "code",
   "execution_count": 3,
   "id": "63cb7996",
   "metadata": {},
   "outputs": [],
   "source": [
    "adds=lambda a,b:a+b"
   ]
  },
  {
   "cell_type": "code",
   "execution_count": 6,
   "id": "7cc838fb",
   "metadata": {},
   "outputs": [
    {
     "data": {
      "text/plain": [
       "25"
      ]
     },
     "execution_count": 6,
     "metadata": {},
     "output_type": "execute_result"
    }
   ],
   "source": [
    "adds(12,13)"
   ]
  },
  {
   "cell_type": "code",
   "execution_count": 7,
   "id": "846ddfbb",
   "metadata": {},
   "outputs": [],
   "source": [
    "def sum2(x,y,z):\n",
    "    return x+y+z"
   ]
  },
  {
   "cell_type": "code",
   "execution_count": 8,
   "id": "0417b42d",
   "metadata": {},
   "outputs": [
    {
     "data": {
      "text/plain": [
       "101"
      ]
     },
     "execution_count": 8,
     "metadata": {},
     "output_type": "execute_result"
    }
   ],
   "source": [
    "sum2(1,25,75)"
   ]
  },
  {
   "cell_type": "code",
   "execution_count": 9,
   "id": "bba03557",
   "metadata": {},
   "outputs": [],
   "source": [
    "sum3=lambda x,y,z:x+y+z"
   ]
  },
  {
   "cell_type": "code",
   "execution_count": 10,
   "id": "b89780c5",
   "metadata": {},
   "outputs": [
    {
     "data": {
      "text/plain": [
       "8"
      ]
     },
     "execution_count": 10,
     "metadata": {},
     "output_type": "execute_result"
    }
   ],
   "source": [
    "sum3(1,2,5)"
   ]
  },
  {
   "cell_type": "code",
   "execution_count": null,
   "id": "69a71fd1",
   "metadata": {},
   "outputs": [],
   "source": []
  }
 ],
 "metadata": {
  "kernelspec": {
   "display_name": "Python 3 (ipykernel)",
   "language": "python",
   "name": "python3"
  },
  "language_info": {
   "codemirror_mode": {
    "name": "ipython",
    "version": 3
   },
   "file_extension": ".py",
   "mimetype": "text/x-python",
   "name": "python",
   "nbconvert_exporter": "python",
   "pygments_lexer": "ipython3",
   "version": "3.9.12"
  }
 },
 "nbformat": 4,
 "nbformat_minor": 5
}
