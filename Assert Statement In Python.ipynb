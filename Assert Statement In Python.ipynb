{
 "cells": [
  {
   "cell_type": "markdown",
   "id": "bd369b36",
   "metadata": {},
   "source": [
    "# Assert Statement In Python\n",
    "python provide the assert statement to check if a given logical expression is true or false.\n",
    "Program execution proceeds only if the expression is true and raises the AsserationError when it is false.\n"
   ]
  },
  {
   "cell_type": "code",
   "execution_count": 1,
   "id": "25ecb331",
   "metadata": {},
   "outputs": [
    {
     "data": {
      "text/plain": [
       "False"
      ]
     },
     "execution_count": 1,
     "metadata": {},
     "output_type": "execute_result"
    }
   ],
   "source": [
    "10>10"
   ]
  },
  {
   "cell_type": "code",
   "execution_count": 2,
   "id": "1a0ebbb3",
   "metadata": {},
   "outputs": [
    {
     "data": {
      "text/plain": [
       "True"
      ]
     },
     "execution_count": 2,
     "metadata": {},
     "output_type": "execute_result"
    }
   ],
   "source": [
    "10>=10"
   ]
  },
  {
   "cell_type": "code",
   "execution_count": 4,
   "id": "969aa8b1",
   "metadata": {},
   "outputs": [],
   "source": [
    "num=10\n",
    "assert num>=10"
   ]
  },
  {
   "cell_type": "code",
   "execution_count": 5,
   "id": "95bfae5c",
   "metadata": {},
   "outputs": [
    {
     "ename": "AssertionError",
     "evalue": "",
     "output_type": "error",
     "traceback": [
      "\u001b[1;31m---------------------------------------------------------------------------\u001b[0m",
      "\u001b[1;31mAssertionError\u001b[0m                            Traceback (most recent call last)",
      "Input \u001b[1;32mIn [5]\u001b[0m, in \u001b[0;36m<cell line: 2>\u001b[1;34m()\u001b[0m\n\u001b[0;32m      1\u001b[0m num\u001b[38;5;241m=\u001b[39m\u001b[38;5;241m10\u001b[39m\n\u001b[1;32m----> 2\u001b[0m \u001b[38;5;28;01massert\u001b[39;00m num\u001b[38;5;241m>\u001b[39m\u001b[38;5;241m10\u001b[39m\n",
      "\u001b[1;31mAssertionError\u001b[0m: "
     ]
    }
   ],
   "source": [
    "num=10\n",
    "assert num>10"
   ]
  },
  {
   "cell_type": "code",
   "execution_count": 14,
   "id": "c3964aba",
   "metadata": {},
   "outputs": [
    {
     "name": "stdout",
     "output_type": "stream",
     "text": [
      "Enter the number1\n",
      "Enter Even Number Only\n"
     ]
    }
   ],
   "source": [
    "try:\n",
    "    num=int(input(\"Enter the number\"))\n",
    "    assert num%2==0\n",
    "    print(\"The Number is even\")\n",
    "except AssertionError:\n",
    "    print(\"Enter Even Number Only\")"
   ]
  },
  {
   "cell_type": "code",
   "execution_count": null,
   "id": "be2cf268",
   "metadata": {},
   "outputs": [],
   "source": []
  }
 ],
 "metadata": {
  "kernelspec": {
   "display_name": "Python 3 (ipykernel)",
   "language": "python",
   "name": "python3"
  },
  "language_info": {
   "codemirror_mode": {
    "name": "ipython",
    "version": 3
   },
   "file_extension": ".py",
   "mimetype": "text/x-python",
   "name": "python",
   "nbconvert_exporter": "python",
   "pygments_lexer": "ipython3",
   "version": "3.9.12"
  }
 },
 "nbformat": 4,
 "nbformat_minor": 5
}
