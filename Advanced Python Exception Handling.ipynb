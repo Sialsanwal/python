{
 "cells": [
  {
   "cell_type": "markdown",
   "id": "964ba77c",
   "metadata": {},
   "source": [
    "# Python Exception Handling"
   ]
  },
  {
   "cell_type": "code",
   "execution_count": 1,
   "id": "9a7d58fd",
   "metadata": {},
   "outputs": [
    {
     "ename": "NameError",
     "evalue": "name 'b' is not defined",
     "output_type": "error",
     "traceback": [
      "\u001b[1;31m---------------------------------------------------------------------------\u001b[0m",
      "\u001b[1;31mNameError\u001b[0m                                 Traceback (most recent call last)",
      "Input \u001b[1;32mIn [1]\u001b[0m, in \u001b[0;36m<cell line: 1>\u001b[1;34m()\u001b[0m\n\u001b[1;32m----> 1\u001b[0m a\u001b[38;5;241m=\u001b[39m\u001b[43mb\u001b[49m\n",
      "\u001b[1;31mNameError\u001b[0m: name 'b' is not defined"
     ]
    }
   ],
   "source": [
    "a=b"
   ]
  },
  {
   "cell_type": "code",
   "execution_count": 3,
   "id": "d1c0d1da",
   "metadata": {},
   "outputs": [
    {
     "name": "stdout",
     "output_type": "stream",
     "text": [
      "Some error may have occurs\n"
     ]
    }
   ],
   "source": [
    "try:\n",
    "    ##code block where exception occurs\n",
    "    a=b\n",
    "except:\n",
    "    print(\"Some error may have occurs\")"
   ]
  },
  {
   "cell_type": "code",
   "execution_count": 7,
   "id": "975ae7f5",
   "metadata": {},
   "outputs": [
    {
     "name": "stdout",
     "output_type": "stream",
     "text": [
      "The user have not defined the variable\n"
     ]
    }
   ],
   "source": [
    "try:\n",
    "    ##code block where exception occurs\n",
    "    a=b\n",
    "except NameError as ex1:\n",
    "    print(\"The user have not defined the variable\")\n",
    "except Exception as ex:\n",
    "    print(ex) "
   ]
  },
  {
   "cell_type": "code",
   "execution_count": 8,
   "id": "1c08c326",
   "metadata": {},
   "outputs": [
    {
     "ename": "TypeError",
     "evalue": "unsupported operand type(s) for +: 'int' and 'str'",
     "output_type": "error",
     "traceback": [
      "\u001b[1;31m---------------------------------------------------------------------------\u001b[0m",
      "\u001b[1;31mTypeError\u001b[0m                                 Traceback (most recent call last)",
      "Input \u001b[1;32mIn [8]\u001b[0m, in \u001b[0;36m<cell line: 3>\u001b[1;34m()\u001b[0m\n\u001b[0;32m      1\u001b[0m a\u001b[38;5;241m=\u001b[39m\u001b[38;5;241m2\u001b[39m\n\u001b[0;32m      2\u001b[0m b\u001b[38;5;241m=\u001b[39m\u001b[38;5;124m'\u001b[39m\u001b[38;5;124ms\u001b[39m\u001b[38;5;124m'\u001b[39m\n\u001b[1;32m----> 3\u001b[0m c\u001b[38;5;241m=\u001b[39m\u001b[43ma\u001b[49m\u001b[38;5;241;43m+\u001b[39;49m\u001b[43mb\u001b[49m\n",
      "\u001b[1;31mTypeError\u001b[0m: unsupported operand type(s) for +: 'int' and 'str'"
     ]
    }
   ],
   "source": [
    "a=2\n",
    "b='s'\n",
    "c=a+b"
   ]
  },
  {
   "cell_type": "code",
   "execution_count": 22,
   "id": "5e81644a",
   "metadata": {},
   "outputs": [
    {
     "name": "stdout",
     "output_type": "stream",
     "text": [
      "Enter the Number 1:2\n",
      "Enter the Number 2:0\n",
      "Please Provide number greater than zero\n"
     ]
    }
   ],
   "source": [
    "try:\n",
    "    ##code block where exception occurs\n",
    "    a=int(input(\"Enter the Number 1:\"))\n",
    "    b=int(input(\"Enter the Number 2:\"))\n",
    "    c=a+b\n",
    "    d=a/b\n",
    "    print(c)\n",
    "    print(d)\n",
    "\n",
    "except ZeroDivisionError:\n",
    "    print(\"Please Provide number greater than zero\")\n",
    "except NameError:\n",
    "    print(\"The user have not defined the variable\")\n",
    "except TypeError:\n",
    "    print(\"Try to Make data type similar\")\n",
    "except Exception as ex:\n",
    "    print(ex) "
   ]
  },
  {
   "cell_type": "code",
   "execution_count": null,
   "id": "68260250",
   "metadata": {},
   "outputs": [],
   "source": []
  },
  {
   "cell_type": "code",
   "execution_count": 23,
   "id": "01b5eb6d",
   "metadata": {},
   "outputs": [
    {
     "name": "stdout",
     "output_type": "stream",
     "text": [
      "Enter the Number 1:2\n",
      "Enter the Number 2:3\n",
      "5\n",
      "0.6666666666666666\n",
      "Execution is Done\n"
     ]
    }
   ],
   "source": [
    "try:\n",
    "    ##code block where exception occurs\n",
    "    a=int(input(\"Enter the Number 1:\"))\n",
    "    b=int(input(\"Enter the Number 2:\"))\n",
    "    c=a+b\n",
    "    d=a/b\n",
    "    print(c)\n",
    "    print(d)\n",
    "\n",
    "except ZeroDivisionError:\n",
    "    print(\"Please Provide number greater than zero\")\n",
    "except NameError:\n",
    "    print(\"The user have not defined the variable\")\n",
    "except TypeError:\n",
    "    print(\"Try to Make data type similar\")\n",
    "except Exception as ex:\n",
    "    print(ex) \n",
    "finally:\n",
    "    print(\"Execution is Done\")"
   ]
  },
  {
   "cell_type": "markdown",
   "id": "519e357f",
   "metadata": {},
   "source": [
    "# Custom Exception"
   ]
  },
  {
   "cell_type": "code",
   "execution_count": 24,
   "id": "b9a568f8",
   "metadata": {},
   "outputs": [],
   "source": [
    "class Error(Exception):\n",
    "    pass\n",
    "class dobException(Error):\n",
    "    pass"
   ]
  },
  {
   "cell_type": "code",
   "execution_count": 27,
   "id": "5ceb8281",
   "metadata": {},
   "outputs": [
    {
     "name": "stdout",
     "output_type": "stream",
     "text": [
      "Enter the year of Birth1950\n",
      "The year is not valid\n"
     ]
    }
   ],
   "source": [
    "year=int(input(\"Enter the year of Birth\"))\n",
    "age=2021-year\n",
    "try:\n",
    "    if age<=30 & age>20:\n",
    "        pass\n",
    "    else:\n",
    "        raise dobException\n",
    "except dobException:\n",
    "    print(\"The year is not valid\")"
   ]
  },
  {
   "cell_type": "code",
   "execution_count": null,
   "id": "3f1e3a0b",
   "metadata": {},
   "outputs": [],
   "source": []
  }
 ],
 "metadata": {
  "kernelspec": {
   "display_name": "Python 3 (ipykernel)",
   "language": "python",
   "name": "python3"
  },
  "language_info": {
   "codemirror_mode": {
    "name": "ipython",
    "version": 3
   },
   "file_extension": ".py",
   "mimetype": "text/x-python",
   "name": "python",
   "nbconvert_exporter": "python",
   "pygments_lexer": "ipython3",
   "version": "3.9.12"
  }
 },
 "nbformat": 4,
 "nbformat_minor": 5
}
