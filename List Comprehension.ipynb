{
 "cells": [
  {
   "cell_type": "markdown",
   "id": "48f62ed8",
   "metadata": {},
   "source": [
    "# List Comprehension\n",
    "List Comprehension provide a concise way to create lists. it consists of bracket containing an expression followed by a for clause, then zero or more for or if clauses. The expression can be anything, meaning you can in all kind 0f object in lists"
   ]
  },
  {
   "cell_type": "code",
   "execution_count": 4,
   "id": "57e20075",
   "metadata": {},
   "outputs": [],
   "source": [
    "lis1=[]\n",
    "def lst_square(lst):\n",
    "    for i in lst:\n",
    "        lis1.append(i*i)\n",
    "    return lis1"
   ]
  },
  {
   "cell_type": "code",
   "execution_count": 5,
   "id": "4177d6c9",
   "metadata": {},
   "outputs": [
    {
     "data": {
      "text/plain": [
       "[1, 4, 9, 16, 25, 36, 49, 64]"
      ]
     },
     "execution_count": 5,
     "metadata": {},
     "output_type": "execute_result"
    }
   ],
   "source": [
    "lis=[1,2,3,4,5,6,7,8]\n",
    "lst_square(lis)"
   ]
  },
  {
   "cell_type": "code",
   "execution_count": 6,
   "id": "8465b469",
   "metadata": {},
   "outputs": [
    {
     "data": {
      "text/plain": [
       "[1, 4, 9, 16, 25]"
      ]
     },
     "execution_count": 6,
     "metadata": {},
     "output_type": "execute_result"
    }
   ],
   "source": [
    "lis=[1,2,3,4,5]\n",
    "[i*i for i in lis]"
   ]
  },
  {
   "cell_type": "code",
   "execution_count": 8,
   "id": "fdf4da40",
   "metadata": {},
   "outputs": [
    {
     "data": {
      "text/plain": [
       "[4, 16]"
      ]
     },
     "execution_count": 8,
     "metadata": {},
     "output_type": "execute_result"
    }
   ],
   "source": [
    "# list comprehension\n",
    "lis=[1,2,3,4,5]\n",
    "[i*i for i in lis if i%2==0]"
   ]
  },
  {
   "cell_type": "code",
   "execution_count": null,
   "id": "b471a409",
   "metadata": {},
   "outputs": [],
   "source": []
  }
 ],
 "metadata": {
  "kernelspec": {
   "display_name": "Python 3 (ipykernel)",
   "language": "python",
   "name": "python3"
  },
  "language_info": {
   "codemirror_mode": {
    "name": "ipython",
    "version": 3
   },
   "file_extension": ".py",
   "mimetype": "text/x-python",
   "name": "python",
   "nbconvert_exporter": "python",
   "pygments_lexer": "ipython3",
   "version": "3.9.12"
  }
 },
 "nbformat": 4,
 "nbformat_minor": 5
}
