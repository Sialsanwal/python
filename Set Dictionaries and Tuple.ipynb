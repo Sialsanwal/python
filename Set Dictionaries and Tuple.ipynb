{
 "cells": [
  {
   "cell_type": "markdown",
   "id": "41566004",
   "metadata": {},
   "source": [
    "# SETS\n",
    "- A set is an unordered collection data type that is iterable , mutable and has no duplicate elements. Python set class represent the mathematical notion of a set. This is based on the data structure known as a hash table."
   ]
  },
  {
   "cell_type": "code",
   "execution_count": 2,
   "id": "ed5c8ac9",
   "metadata": {},
   "outputs": [],
   "source": [
    "set_var=set()"
   ]
  },
  {
   "cell_type": "code",
   "execution_count": 4,
   "id": "9f38bf33",
   "metadata": {},
   "outputs": [
    {
     "name": "stdout",
     "output_type": "stream",
     "text": [
      "set()\n",
      "<class 'set'>\n"
     ]
    }
   ],
   "source": [
    "print(set_var)\n",
    "print(type(set_var))"
   ]
  },
  {
   "cell_type": "code",
   "execution_count": 9,
   "id": "14789541",
   "metadata": {},
   "outputs": [],
   "source": [
    "set_var2=set({\"hitman\",\"IronMan\"})"
   ]
  },
  {
   "cell_type": "code",
   "execution_count": 10,
   "id": "e9a89e98",
   "metadata": {},
   "outputs": [
    {
     "data": {
      "text/plain": [
       "{'IronMan', 'hitman'}"
      ]
     },
     "execution_count": 10,
     "metadata": {},
     "output_type": "execute_result"
    }
   ],
   "source": [
    "set_var2"
   ]
  },
  {
   "cell_type": "code",
   "execution_count": 11,
   "id": "e9f0df2f",
   "metadata": {},
   "outputs": [],
   "source": [
    "set_var2.add(\"Hitman2\")"
   ]
  },
  {
   "cell_type": "code",
   "execution_count": 12,
   "id": "e7eb6c9e",
   "metadata": {},
   "outputs": [
    {
     "data": {
      "text/plain": [
       "{'Hitman2', 'IronMan', 'hitman'}"
      ]
     },
     "execution_count": 12,
     "metadata": {},
     "output_type": "execute_result"
    }
   ],
   "source": [
    "set_var2"
   ]
  },
  {
   "cell_type": "code",
   "execution_count": 17,
   "id": "6c81b7f5",
   "metadata": {},
   "outputs": [],
   "source": [
    "set1=set({})\n",
    "type(set1)\n",
    "set2=set({})\n"
   ]
  },
  {
   "cell_type": "code",
   "execution_count": 19,
   "id": "3e9e8d49",
   "metadata": {},
   "outputs": [],
   "source": [
    "set1={\"hitman\",\"ironman\",\"batman\"}\n",
    "set2={\"hitman\",\"ironman\",\"batman\",\"spiderman\"}"
   ]
  },
  {
   "cell_type": "code",
   "execution_count": 20,
   "id": "d5929f72",
   "metadata": {},
   "outputs": [
    {
     "data": {
      "text/plain": [
       "{'spiderman'}"
      ]
     },
     "execution_count": 20,
     "metadata": {},
     "output_type": "execute_result"
    }
   ],
   "source": [
    "set2.difference(set1)"
   ]
  },
  {
   "cell_type": "code",
   "execution_count": 21,
   "id": "289b7b6a",
   "metadata": {},
   "outputs": [
    {
     "data": {
      "text/plain": [
       "set()"
      ]
     },
     "execution_count": 21,
     "metadata": {},
     "output_type": "execute_result"
    }
   ],
   "source": [
    "set1.difference(set2)"
   ]
  },
  {
   "cell_type": "code",
   "execution_count": 22,
   "id": "77f4ded5",
   "metadata": {},
   "outputs": [
    {
     "data": {
      "text/plain": [
       "{'batman', 'hitman', 'ironman'}"
      ]
     },
     "execution_count": 22,
     "metadata": {},
     "output_type": "execute_result"
    }
   ],
   "source": [
    "set1.intersection(set2)"
   ]
  },
  {
   "cell_type": "code",
   "execution_count": null,
   "id": "ae0d6353",
   "metadata": {},
   "outputs": [],
   "source": []
  }
 ],
 "metadata": {
  "kernelspec": {
   "display_name": "Python 3 (ipykernel)",
   "language": "python",
   "name": "python3"
  },
  "language_info": {
   "codemirror_mode": {
    "name": "ipython",
    "version": 3
   },
   "file_extension": ".py",
   "mimetype": "text/x-python",
   "name": "python",
   "nbconvert_exporter": "python",
   "pygments_lexer": "ipython3",
   "version": "3.9.12"
  }
 },
 "nbformat": 4,
 "nbformat_minor": 5
}
