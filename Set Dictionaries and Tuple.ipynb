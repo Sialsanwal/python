{
 "cells": [
  {
   "cell_type": "markdown",
   "id": "dde2c14a",
   "metadata": {},
   "source": [
    "# SETS\n",
    "- A set is an unordered collection data type that is iterable , mutable and has no duplicate elements. Python set class represent the mathematical notion of a set. This is based on the data structure known as a hash table."
   ]
  },
  {
   "cell_type": "code",
   "execution_count": 1,
   "id": "f832911d",
   "metadata": {},
   "outputs": [],
   "source": [
    "set_var=set()"
   ]
  },
  {
   "cell_type": "code",
   "execution_count": 2,
   "id": "0ffbc764",
   "metadata": {},
   "outputs": [
    {
     "name": "stdout",
     "output_type": "stream",
     "text": [
      "set()\n",
      "<class 'set'>\n"
     ]
    }
   ],
   "source": [
    "print(set_var)\n",
    "print(type(set_var))"
   ]
  },
  {
   "cell_type": "code",
   "execution_count": 3,
   "id": "3b4c136f",
   "metadata": {},
   "outputs": [],
   "source": [
    "set_var2=set({\"hitman\",\"IronMan\"})"
   ]
  },
  {
   "cell_type": "code",
   "execution_count": 4,
   "id": "5f81f764",
   "metadata": {},
   "outputs": [
    {
     "data": {
      "text/plain": [
       "{'IronMan', 'hitman'}"
      ]
     },
     "execution_count": 4,
     "metadata": {},
     "output_type": "execute_result"
    }
   ],
   "source": [
    "set_var2"
   ]
  },
  {
   "cell_type": "code",
   "execution_count": 5,
   "id": "0726b83c",
   "metadata": {},
   "outputs": [],
   "source": [
    "set_var2.add(\"Hitman2\")"
   ]
  },
  {
   "cell_type": "code",
   "execution_count": 6,
   "id": "ee8c5d34",
   "metadata": {},
   "outputs": [
    {
     "data": {
      "text/plain": [
       "{'Hitman2', 'IronMan', 'hitman'}"
      ]
     },
     "execution_count": 6,
     "metadata": {},
     "output_type": "execute_result"
    }
   ],
   "source": [
    "set_var2"
   ]
  },
  {
   "cell_type": "code",
   "execution_count": 7,
   "id": "213d25ee",
   "metadata": {},
   "outputs": [],
   "source": [
    "set1=set({})\n",
    "type(set1)\n",
    "set2=set({})\n"
   ]
  },
  {
   "cell_type": "code",
   "execution_count": 8,
   "id": "1d29b516",
   "metadata": {},
   "outputs": [],
   "source": [
    "set1={\"hitman\",\"ironman\",\"batman\"}\n",
    "set2={\"hitman\",\"ironman\",\"batman\",\"spiderman\"}"
   ]
  },
  {
   "cell_type": "code",
   "execution_count": 9,
   "id": "c91f159f",
   "metadata": {},
   "outputs": [
    {
     "data": {
      "text/plain": [
       "{'spiderman'}"
      ]
     },
     "execution_count": 9,
     "metadata": {},
     "output_type": "execute_result"
    }
   ],
   "source": [
    "set2.difference(set1)"
   ]
  },
  {
   "cell_type": "code",
   "execution_count": 10,
   "id": "aed2c3bd",
   "metadata": {},
   "outputs": [
    {
     "data": {
      "text/plain": [
       "set()"
      ]
     },
     "execution_count": 10,
     "metadata": {},
     "output_type": "execute_result"
    }
   ],
   "source": [
    "set1.difference(set2)"
   ]
  },
  {
   "cell_type": "code",
   "execution_count": 11,
   "id": "0b3a3f62",
   "metadata": {},
   "outputs": [
    {
     "data": {
      "text/plain": [
       "{'batman', 'hitman', 'ironman'}"
      ]
     },
     "execution_count": 11,
     "metadata": {},
     "output_type": "execute_result"
    }
   ],
   "source": [
    "set1.intersection(set2)"
   ]
  },
  {
   "cell_type": "markdown",
   "id": "1fa8db00",
   "metadata": {},
   "source": [
    "# Dictionaries\n",
    "- A dictionaries is a collection which is unordered , changeable, and indexed. In python dictionaies are written in cucly bracket and they have keys and values."
   ]
  },
  {
   "cell_type": "code",
   "execution_count": 12,
   "id": "7941f8c0",
   "metadata": {},
   "outputs": [],
   "source": [
    "dic={}"
   ]
  },
  {
   "cell_type": "code",
   "execution_count": 13,
   "id": "e53194a6",
   "metadata": {},
   "outputs": [
    {
     "data": {
      "text/plain": [
       "dict"
      ]
     },
     "execution_count": 13,
     "metadata": {},
     "output_type": "execute_result"
    }
   ],
   "source": [
    "type(dic)"
   ]
  },
  {
   "cell_type": "code",
   "execution_count": 14,
   "id": "013ee3bd",
   "metadata": {},
   "outputs": [
    {
     "data": {
      "text/plain": [
       "set"
      ]
     },
     "execution_count": 14,
     "metadata": {},
     "output_type": "execute_result"
    }
   ],
   "source": [
    "dic={1,2,3,4,5,5}\n",
    "type(dic)"
   ]
  },
  {
   "cell_type": "code",
   "execution_count": 15,
   "id": "ae10ca03",
   "metadata": {},
   "outputs": [],
   "source": [
    "# let create the dictionary\n",
    "my_dict={\"car1\":\"Mehran\",\"car2\":\"Corolla\",\"car3\":\"Honda\"}"
   ]
  },
  {
   "cell_type": "code",
   "execution_count": 16,
   "id": "f0746dad",
   "metadata": {},
   "outputs": [
    {
     "data": {
      "text/plain": [
       "dict"
      ]
     },
     "execution_count": 16,
     "metadata": {},
     "output_type": "execute_result"
    }
   ],
   "source": [
    "type(my_dict)"
   ]
  },
  {
   "cell_type": "code",
   "execution_count": 17,
   "id": "8b12cee6",
   "metadata": {},
   "outputs": [
    {
     "data": {
      "text/plain": [
       "'Mehran'"
      ]
     },
     "execution_count": 17,
     "metadata": {},
     "output_type": "execute_result"
    }
   ],
   "source": [
    "# access the data element in dict\n",
    "my_dict[\"car1\"]"
   ]
  },
  {
   "cell_type": "code",
   "execution_count": 23,
   "id": "6993d739",
   "metadata": {},
   "outputs": [
    {
     "name": "stdout",
     "output_type": "stream",
     "text": [
      "car1\n",
      "car2\n",
      "car3\n"
     ]
    }
   ],
   "source": [
    "for x in my_dict:\n",
    "    print(x)"
   ]
  },
  {
   "cell_type": "code",
   "execution_count": 26,
   "id": "797bd109",
   "metadata": {},
   "outputs": [
    {
     "name": "stdout",
     "output_type": "stream",
     "text": [
      "car1\n",
      "car2\n",
      "car3\n"
     ]
    }
   ],
   "source": [
    "for x in my_dict.keys():\n",
    "    print(x)"
   ]
  },
  {
   "cell_type": "code",
   "execution_count": 27,
   "id": "ea39c986",
   "metadata": {},
   "outputs": [
    {
     "name": "stdout",
     "output_type": "stream",
     "text": [
      "Mehran\n",
      "Corolla\n",
      "Honda\n"
     ]
    }
   ],
   "source": [
    "for x in my_dict.values():\n",
    "    print(x)"
   ]
  },
  {
   "cell_type": "code",
   "execution_count": 29,
   "id": "d5aec44c",
   "metadata": {},
   "outputs": [
    {
     "name": "stdout",
     "output_type": "stream",
     "text": [
      "('car1', 'Mehran')\n",
      "('car2', 'Corolla')\n",
      "('car3', 'Honda')\n"
     ]
    }
   ],
   "source": [
    "for x in my_dict.items():\n",
    "    print(x)"
   ]
  },
  {
   "cell_type": "code",
   "execution_count": 32,
   "id": "bc955a18",
   "metadata": {},
   "outputs": [],
   "source": [
    "my_dict[\"car4\"]=\"kIA\""
   ]
  },
  {
   "cell_type": "code",
   "execution_count": 33,
   "id": "ebae28cb",
   "metadata": {},
   "outputs": [
    {
     "data": {
      "text/plain": [
       "{'car1': 'Mehran', 'car2': 'Corolla', 'car3': 'Honda', 'car4': 'kIA'}"
      ]
     },
     "execution_count": 33,
     "metadata": {},
     "output_type": "execute_result"
    }
   ],
   "source": [
    "my_dict"
   ]
  },
  {
   "cell_type": "markdown",
   "id": "8739d925",
   "metadata": {},
   "source": [
    "#### Nested Dictionary"
   ]
  },
  {
   "cell_type": "code",
   "execution_count": 34,
   "id": "fc524c46",
   "metadata": {},
   "outputs": [],
   "source": [
    "car1_model={\"Corolla\":2015}\n",
    "car2_model={\"Aspire\":2016}\n",
    "car3_model={\"Revo\":2023}"
   ]
  },
  {
   "cell_type": "code",
   "execution_count": null,
   "id": "dacd8db5",
   "metadata": {},
   "outputs": [],
   "source": [
    "car_type={\"car1\":car1_model, \"car2\":car2_model, \"car\"}"
   ]
  }
 ],
 "metadata": {
  "kernelspec": {
   "display_name": "Python 3 (ipykernel)",
   "language": "python",
   "name": "python3"
  },
  "language_info": {
   "codemirror_mode": {
    "name": "ipython",
    "version": 3
   },
   "file_extension": ".py",
   "mimetype": "text/x-python",
   "name": "python",
   "nbconvert_exporter": "python",
   "pygments_lexer": "ipython3",
   "version": "3.9.12"
  }
 },
 "nbformat": 4,
 "nbformat_minor": 5
}
