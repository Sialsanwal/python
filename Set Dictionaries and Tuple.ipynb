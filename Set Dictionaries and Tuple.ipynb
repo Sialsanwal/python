{
 "cells": [
  {
   "cell_type": "markdown",
   "id": "dde2c14a",
   "metadata": {},
   "source": [
    "# SETS\n",
    "- A set is an unordered collection data type that is iterable , mutable and has no duplicate elements. Python set class represent the mathematical notion of a set. This is based on the data structure known as a hash table."
   ]
  },
  {
   "cell_type": "code",
   "execution_count": 1,
   "id": "f832911d",
   "metadata": {},
   "outputs": [],
   "source": [
    "set_var=set()"
   ]
  },
  {
   "cell_type": "code",
   "execution_count": 2,
   "id": "0ffbc764",
   "metadata": {},
   "outputs": [
    {
     "name": "stdout",
     "output_type": "stream",
     "text": [
      "set()\n",
      "<class 'set'>\n"
     ]
    }
   ],
   "source": [
    "print(set_var)\n",
    "print(type(set_var))"
   ]
  },
  {
   "cell_type": "code",
   "execution_count": 3,
   "id": "3b4c136f",
   "metadata": {},
   "outputs": [],
   "source": [
    "set_var2=set({\"hitman\",\"IronMan\"})"
   ]
  },
  {
   "cell_type": "code",
   "execution_count": 4,
   "id": "5f81f764",
   "metadata": {},
   "outputs": [
    {
     "data": {
      "text/plain": [
       "{'IronMan', 'hitman'}"
      ]
     },
     "execution_count": 4,
     "metadata": {},
     "output_type": "execute_result"
    }
   ],
   "source": [
    "set_var2"
   ]
  },
  {
   "cell_type": "code",
   "execution_count": 5,
   "id": "0726b83c",
   "metadata": {},
   "outputs": [],
   "source": [
    "set_var2.add(\"Hitman2\")"
   ]
  },
  {
   "cell_type": "code",
   "execution_count": 6,
   "id": "ee8c5d34",
   "metadata": {},
   "outputs": [
    {
     "data": {
      "text/plain": [
       "{'Hitman2', 'IronMan', 'hitman'}"
      ]
     },
     "execution_count": 6,
     "metadata": {},
     "output_type": "execute_result"
    }
   ],
   "source": [
    "set_var2"
   ]
  },
  {
   "cell_type": "code",
   "execution_count": 7,
   "id": "213d25ee",
   "metadata": {},
   "outputs": [],
   "source": [
    "set1=set({})\n",
    "type(set1)\n",
    "set2=set({})\n"
   ]
  },
  {
   "cell_type": "code",
   "execution_count": 8,
   "id": "1d29b516",
   "metadata": {},
   "outputs": [],
   "source": [
    "set1={\"hitman\",\"ironman\",\"batman\"}\n",
    "set2={\"hitman\",\"ironman\",\"batman\",\"spiderman\"}"
   ]
  },
  {
   "cell_type": "code",
   "execution_count": 9,
   "id": "c91f159f",
   "metadata": {},
   "outputs": [
    {
     "data": {
      "text/plain": [
       "{'spiderman'}"
      ]
     },
     "execution_count": 9,
     "metadata": {},
     "output_type": "execute_result"
    }
   ],
   "source": [
    "set2.difference(set1)"
   ]
  },
  {
   "cell_type": "code",
   "execution_count": 10,
   "id": "aed2c3bd",
   "metadata": {},
   "outputs": [
    {
     "data": {
      "text/plain": [
       "set()"
      ]
     },
     "execution_count": 10,
     "metadata": {},
     "output_type": "execute_result"
    }
   ],
   "source": [
    "set1.difference(set2)"
   ]
  },
  {
   "cell_type": "code",
   "execution_count": 11,
   "id": "0b3a3f62",
   "metadata": {},
   "outputs": [
    {
     "data": {
      "text/plain": [
       "{'batman', 'hitman', 'ironman'}"
      ]
     },
     "execution_count": 11,
     "metadata": {},
     "output_type": "execute_result"
    }
   ],
   "source": [
    "set1.intersection(set2)"
   ]
  },
  {
   "cell_type": "markdown",
   "id": "1fa8db00",
   "metadata": {},
   "source": [
    "# Dictionaries\n",
    "- A dictionaries is a collection which is unordered , changeable, and indexed. In python dictionaies are written in cucly bracket and they have keys and values."
   ]
  },
  {
   "cell_type": "code",
   "execution_count": 12,
   "id": "7941f8c0",
   "metadata": {},
   "outputs": [],
   "source": [
    "dic={}"
   ]
  },
  {
   "cell_type": "code",
   "execution_count": 13,
   "id": "e53194a6",
   "metadata": {},
   "outputs": [
    {
     "data": {
      "text/plain": [
       "dict"
      ]
     },
     "execution_count": 13,
     "metadata": {},
     "output_type": "execute_result"
    }
   ],
   "source": [
    "type(dic)"
   ]
  },
  {
   "cell_type": "code",
   "execution_count": 14,
   "id": "013ee3bd",
   "metadata": {},
   "outputs": [
    {
     "data": {
      "text/plain": [
       "set"
      ]
     },
     "execution_count": 14,
     "metadata": {},
     "output_type": "execute_result"
    }
   ],
   "source": [
    "dic={1,2,3,4,5,5}\n",
    "type(dic)"
   ]
  },
  {
   "cell_type": "code",
   "execution_count": 15,
   "id": "ae10ca03",
   "metadata": {},
   "outputs": [],
   "source": [
    "# let create the dictionary\n",
    "my_dict={\"car1\":\"Mehran\",\"car2\":\"Corolla\",\"car3\":\"Honda\"}"
   ]
  },
  {
   "cell_type": "code",
   "execution_count": 16,
   "id": "f0746dad",
   "metadata": {},
   "outputs": [
    {
     "data": {
      "text/plain": [
       "dict"
      ]
     },
     "execution_count": 16,
     "metadata": {},
     "output_type": "execute_result"
    }
   ],
   "source": [
    "type(my_dict)"
   ]
  },
  {
   "cell_type": "code",
   "execution_count": 17,
   "id": "8b12cee6",
   "metadata": {},
   "outputs": [
    {
     "data": {
      "text/plain": [
       "'Mehran'"
      ]
     },
     "execution_count": 17,
     "metadata": {},
     "output_type": "execute_result"
    }
   ],
   "source": [
    "# access the data element in dict\n",
    "my_dict[\"car1\"]"
   ]
  },
  {
   "cell_type": "code",
   "execution_count": 23,
   "id": "be5873bc",
   "metadata": {},
   "outputs": [
    {
     "name": "stdout",
     "output_type": "stream",
     "text": [
      "car1\n",
      "car2\n",
      "car3\n"
     ]
    }
   ],
   "source": [
    "for x in my_dict:\n",
    "    print(x)"
   ]
  },
  {
   "cell_type": "code",
   "execution_count": 26,
   "id": "78e2ce46",
   "metadata": {},
   "outputs": [
    {
     "name": "stdout",
     "output_type": "stream",
     "text": [
      "car1\n",
      "car2\n",
      "car3\n"
     ]
    }
   ],
   "source": [
    "for x in my_dict.keys():\n",
    "    print(x)"
   ]
  },
  {
   "cell_type": "code",
   "execution_count": 27,
   "id": "8609d8fc",
   "metadata": {},
   "outputs": [
    {
     "name": "stdout",
     "output_type": "stream",
     "text": [
      "Mehran\n",
      "Corolla\n",
      "Honda\n"
     ]
    }
   ],
   "source": [
    "for x in my_dict.values():\n",
    "    print(x)"
   ]
  },
  {
   "cell_type": "code",
   "execution_count": 29,
   "id": "3a2da43d",
   "metadata": {},
   "outputs": [
    {
     "name": "stdout",
     "output_type": "stream",
     "text": [
      "('car1', 'Mehran')\n",
      "('car2', 'Corolla')\n",
      "('car3', 'Honda')\n"
     ]
    }
   ],
   "source": [
    "for x in my_dict.items():\n",
    "    print(x)"
   ]
  },
  {
   "cell_type": "code",
   "execution_count": 32,
   "id": "b1a9e0f3",
   "metadata": {},
   "outputs": [],
   "source": [
    "my_dict[\"car4\"]=\"kIA\""
   ]
  },
  {
   "cell_type": "code",
   "execution_count": 33,
   "id": "0bf70632",
   "metadata": {},
   "outputs": [
    {
     "data": {
      "text/plain": [
       "{'car1': 'Mehran', 'car2': 'Corolla', 'car3': 'Honda', 'car4': 'kIA'}"
      ]
     },
     "execution_count": 33,
     "metadata": {},
     "output_type": "execute_result"
    }
   ],
   "source": [
    "my_dict"
   ]
  },
  {
   "cell_type": "markdown",
   "id": "25d943f1",
   "metadata": {},
   "source": [
    "#### Nested Dictionary"
   ]
  },
  {
   "cell_type": "code",
   "execution_count": 34,
   "id": "4a228cfa",
   "metadata": {},
   "outputs": [],
   "source": [
    "car1_model={\"Corolla\":2015}\n",
    "car2_model={\"Aspire\":2016}\n",
    "car3_model={\"Revo\":2023}"
   ]
  },
  {
   "cell_type": "code",
   "execution_count": 35,
   "id": "fb81c410",
   "metadata": {},
   "outputs": [],
   "source": [
    "car_type={\"car1\":car1_model, \"car2\":car2_model, \"car3\":car3_model}"
   ]
  },
  {
   "cell_type": "code",
   "execution_count": 36,
   "id": "ba51c0c8",
   "metadata": {},
   "outputs": [
    {
     "data": {
      "text/plain": [
       "dict_values([{'Corolla': 2015}, {'Aspire': 2016}, {'Revo': 2023}])"
      ]
     },
     "execution_count": 36,
     "metadata": {},
     "output_type": "execute_result"
    }
   ],
   "source": [
    "car_type.values()"
   ]
  },
  {
   "cell_type": "code",
   "execution_count": 37,
   "id": "b1bf0fd0",
   "metadata": {},
   "outputs": [
    {
     "name": "stdout",
     "output_type": "stream",
     "text": [
      "2015\n"
     ]
    }
   ],
   "source": [
    "print(car_type[\"car1\"][\"Corolla\"])"
   ]
  },
  {
   "cell_type": "markdown",
   "id": "5b9a6bfe",
   "metadata": {},
   "source": [
    "# Tuple"
   ]
  },
  {
   "cell_type": "code",
   "execution_count": 38,
   "id": "e1aa241a",
   "metadata": {},
   "outputs": [],
   "source": [
    "my_tup=()"
   ]
  },
  {
   "cell_type": "code",
   "execution_count": 39,
   "id": "b5215c99",
   "metadata": {},
   "outputs": [
    {
     "data": {
      "text/plain": [
       "tuple"
      ]
     },
     "execution_count": 39,
     "metadata": {},
     "output_type": "execute_result"
    }
   ],
   "source": [
    "type(my_tup)"
   ]
  },
  {
   "cell_type": "code",
   "execution_count": 40,
   "id": "28d48825",
   "metadata": {},
   "outputs": [],
   "source": [
    "my_tup=(\"samsung\",\"huawei\",\"nokia\")"
   ]
  },
  {
   "cell_type": "code",
   "execution_count": 41,
   "id": "df3adb55",
   "metadata": {},
   "outputs": [
    {
     "data": {
      "text/plain": [
       "tuple"
      ]
     },
     "execution_count": 41,
     "metadata": {},
     "output_type": "execute_result"
    }
   ],
   "source": [
    "type(my_tup)"
   ]
  },
  {
   "cell_type": "code",
   "execution_count": 42,
   "id": "2427d393",
   "metadata": {},
   "outputs": [
    {
     "data": {
      "text/plain": [
       "'samsung'"
      ]
     },
     "execution_count": 42,
     "metadata": {},
     "output_type": "execute_result"
    }
   ],
   "source": [
    "my_tup[0]"
   ]
  },
  {
   "cell_type": "code",
   "execution_count": 43,
   "id": "152f878e",
   "metadata": {},
   "outputs": [
    {
     "ename": "TypeError",
     "evalue": "'tuple' object does not support item assignment",
     "output_type": "error",
     "traceback": [
      "\u001b[1;31m---------------------------------------------------------------------------\u001b[0m",
      "\u001b[1;31mTypeError\u001b[0m                                 Traceback (most recent call last)",
      "Input \u001b[1;32mIn [43]\u001b[0m, in \u001b[0;36m<cell line: 1>\u001b[1;34m()\u001b[0m\n\u001b[1;32m----> 1\u001b[0m my_tup[\u001b[38;5;241m0\u001b[39m]\u001b[38;5;241m=\u001b[39m\u001b[38;5;124m\"\u001b[39m\u001b[38;5;124mLG\u001b[39m\u001b[38;5;124m\"\u001b[39m\n",
      "\u001b[1;31mTypeError\u001b[0m: 'tuple' object does not support item assignment"
     ]
    }
   ],
   "source": [
    "my_tup[0]=\"LG\""
   ]
  },
  {
   "cell_type": "code",
   "execution_count": 44,
   "id": "79ed8edb",
   "metadata": {},
   "outputs": [
    {
     "data": {
      "text/plain": [
       "('samsung', 'huawei', 'nokia')"
      ]
     },
     "execution_count": 44,
     "metadata": {},
     "output_type": "execute_result"
    }
   ],
   "source": [
    "my_tup"
   ]
  },
  {
   "cell_type": "code",
   "execution_count": 47,
   "id": "7c6834a5",
   "metadata": {},
   "outputs": [
    {
     "data": {
      "text/plain": [
       "1"
      ]
     },
     "execution_count": 47,
     "metadata": {},
     "output_type": "execute_result"
    }
   ],
   "source": [
    "my_tup.count(\"samsung\")"
   ]
  },
  {
   "cell_type": "code",
   "execution_count": 48,
   "id": "805c3559",
   "metadata": {},
   "outputs": [
    {
     "data": {
      "text/plain": [
       "2"
      ]
     },
     "execution_count": 48,
     "metadata": {},
     "output_type": "execute_result"
    }
   ],
   "source": [
    "my_tup.index(\"nokia\")"
   ]
  },
  {
   "cell_type": "code",
   "execution_count": null,
   "id": "77b8cc1b",
   "metadata": {},
   "outputs": [],
   "source": []
  }
 ],
 "metadata": {
  "kernelspec": {
   "display_name": "Python 3 (ipykernel)",
   "language": "python",
   "name": "python3"
  },
  "language_info": {
   "codemirror_mode": {
    "name": "ipython",
    "version": 3
   },
   "file_extension": ".py",
   "mimetype": "text/x-python",
   "name": "python",
   "nbconvert_exporter": "python",
   "pygments_lexer": "ipython3",
   "version": "3.9.12"
  }
 },
 "nbformat": 4,
 "nbformat_minor": 5
}
