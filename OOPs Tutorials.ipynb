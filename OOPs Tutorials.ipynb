{
 "cells": [
  {
   "cell_type": "markdown",
   "id": "7132b38d",
   "metadata": {},
   "source": [
    "# Class\n",
    "- Is a Real_world Object\n",
    "- Class have Properties and Function"
   ]
  },
  {
   "cell_type": "code",
   "execution_count": 28,
   "id": "8bc16a67",
   "metadata": {},
   "outputs": [],
   "source": [
    "class Car:\n",
    "    def __init__(self,window,door,engine_type):\n",
    "        self.windows=window\n",
    "        self.doors=door\n",
    "        self.engine_types=engine_type\n",
    "    def self_driving(self):\n",
    "        return \"This is a {} car\".format(self.engine_type)"
   ]
  },
  {
   "cell_type": "code",
   "execution_count": 29,
   "id": "9314debd",
   "metadata": {},
   "outputs": [],
   "source": [
    "car1=Car(5,4,\"Petrol\")"
   ]
  },
  {
   "cell_type": "code",
   "execution_count": 30,
   "id": "e1aa5b08",
   "metadata": {},
   "outputs": [],
   "source": [
    "car2=Car(6,7,\"disel\")"
   ]
  },
  {
   "cell_type": "code",
   "execution_count": 31,
   "id": "cd231130",
   "metadata": {},
   "outputs": [],
   "source": [
    "car3=Car(8,9,\"Gas\")"
   ]
  },
  {
   "cell_type": "code",
   "execution_count": 32,
   "id": "c4348b24",
   "metadata": {},
   "outputs": [
    {
     "ename": "AttributeError",
     "evalue": "'Car' object has no attribute 'se'",
     "output_type": "error",
     "traceback": [
      "\u001b[1;31m---------------------------------------------------------------------------\u001b[0m",
      "\u001b[1;31mAttributeError\u001b[0m                            Traceback (most recent call last)",
      "Input \u001b[1;32mIn [32]\u001b[0m, in \u001b[0;36m<cell line: 1>\u001b[1;34m()\u001b[0m\n\u001b[1;32m----> 1\u001b[0m \u001b[43mcar2\u001b[49m\u001b[38;5;241;43m.\u001b[39;49m\u001b[43mse\u001b[49m\n",
      "\u001b[1;31mAttributeError\u001b[0m: 'Car' object has no attribute 'se'"
     ]
    }
   ],
   "source": [
    "car2.self_driving()"
   ]
  },
  {
   "cell_type": "code",
   "execution_count": 23,
   "id": "e1799370",
   "metadata": {},
   "outputs": [
    {
     "name": "stdout",
     "output_type": "stream",
     "text": [
      "Petrol\n"
     ]
    }
   ],
   "source": [
    "print(car1.engine_types)"
   ]
  },
  {
   "cell_type": "code",
   "execution_count": 5,
   "id": "0bfac70d",
   "metadata": {},
   "outputs": [
    {
     "data": {
      "text/plain": [
       "__main__.Car"
      ]
     },
     "execution_count": 5,
     "metadata": {},
     "output_type": "execute_result"
    }
   ],
   "source": [
    "type(car1)"
   ]
  },
  {
   "cell_type": "code",
   "execution_count": 6,
   "id": "b931151c",
   "metadata": {},
   "outputs": [],
   "source": [
    "car1.window=5\n",
    "car1.door=4"
   ]
  },
  {
   "cell_type": "code",
   "execution_count": 7,
   "id": "de241053",
   "metadata": {},
   "outputs": [
    {
     "data": {
      "text/plain": [
       "4"
      ]
     },
     "execution_count": 7,
     "metadata": {},
     "output_type": "execute_result"
    }
   ],
   "source": [
    "car1.door"
   ]
  },
  {
   "cell_type": "code",
   "execution_count": 8,
   "id": "dec1e113",
   "metadata": {},
   "outputs": [
    {
     "data": {
      "text/plain": [
       "5"
      ]
     },
     "execution_count": 8,
     "metadata": {},
     "output_type": "execute_result"
    }
   ],
   "source": [
    "car1.window"
   ]
  },
  {
   "cell_type": "code",
   "execution_count": 9,
   "id": "0389402e",
   "metadata": {},
   "outputs": [],
   "source": [
    "car2=Car()\n",
    "car2.door=2\n",
    "car2.window=3"
   ]
  },
  {
   "cell_type": "code",
   "execution_count": 10,
   "id": "df411e3f",
   "metadata": {},
   "outputs": [
    {
     "data": {
      "text/plain": [
       "2"
      ]
     },
     "execution_count": 10,
     "metadata": {},
     "output_type": "execute_result"
    }
   ],
   "source": [
    "car2.door"
   ]
  },
  {
   "cell_type": "code",
   "execution_count": 12,
   "id": "3b191668",
   "metadata": {},
   "outputs": [
    {
     "data": {
      "text/plain": [
       "'petrol'"
      ]
     },
     "execution_count": 12,
     "metadata": {},
     "output_type": "execute_result"
    }
   ],
   "source": [
    "car2.engine_type=\"petrol\"\n",
    "car2.engine_type"
   ]
  },
  {
   "cell_type": "code",
   "execution_count": null,
   "id": "8e2fc587",
   "metadata": {},
   "outputs": [],
   "source": []
  }
 ],
 "metadata": {
  "kernelspec": {
   "display_name": "Python 3 (ipykernel)",
   "language": "python",
   "name": "python3"
  },
  "language_info": {
   "codemirror_mode": {
    "name": "ipython",
    "version": 3
   },
   "file_extension": ".py",
   "mimetype": "text/x-python",
   "name": "python",
   "nbconvert_exporter": "python",
   "pygments_lexer": "ipython3",
   "version": "3.9.12"
  }
 },
 "nbformat": 4,
 "nbformat_minor": 5
}
