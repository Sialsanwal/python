{
 "cells": [
  {
   "cell_type": "markdown",
   "id": "dc9ecbb3",
   "metadata": {},
   "source": [
    "# Class\n",
    "- Is a Real_world Object\n",
    "- Class have Properties and Function"
   ]
  },
  {
   "cell_type": "code",
   "execution_count": 34,
   "id": "b522858e",
   "metadata": {},
   "outputs": [],
   "source": [
    "class Car:\n",
    "    def __init__(self,window,door,engine_type):\n",
    "        self.windows=window\n",
    "        self.doors=door\n",
    "        self.engine_types=engine_type\n",
    "    def self_driving(self):\n",
    "        return \"This is a {} car\".format(self.engine_types)"
   ]
  },
  {
   "cell_type": "code",
   "execution_count": 35,
   "id": "31050c12",
   "metadata": {},
   "outputs": [],
   "source": [
    "car1=Car(5,4,\"Petrol\")"
   ]
  },
  {
   "cell_type": "code",
   "execution_count": 36,
   "id": "e51ad8e0",
   "metadata": {},
   "outputs": [],
   "source": [
    "car2=Car(6,7,\"disel\")"
   ]
  },
  {
   "cell_type": "code",
   "execution_count": 37,
   "id": "028d3ccc",
   "metadata": {},
   "outputs": [],
   "source": [
    "car3=Car(8,9,\"Gas\")"
   ]
  },
  {
   "cell_type": "code",
   "execution_count": 38,
   "id": "ccd360a7",
   "metadata": {},
   "outputs": [
    {
     "data": {
      "text/plain": [
       "'This is a disel car'"
      ]
     },
     "execution_count": 38,
     "metadata": {},
     "output_type": "execute_result"
    }
   ],
   "source": [
    "car2.self_driving()"
   ]
  },
  {
   "cell_type": "code",
   "execution_count": 23,
   "id": "289c4adf",
   "metadata": {},
   "outputs": [
    {
     "name": "stdout",
     "output_type": "stream",
     "text": [
      "Petrol\n"
     ]
    }
   ],
   "source": [
    "print(car1.engine_types)"
   ]
  },
  {
   "cell_type": "code",
   "execution_count": 5,
   "id": "803a9697",
   "metadata": {},
   "outputs": [
    {
     "data": {
      "text/plain": [
       "__main__.Car"
      ]
     },
     "execution_count": 5,
     "metadata": {},
     "output_type": "execute_result"
    }
   ],
   "source": [
    "type(car1)"
   ]
  },
  {
   "cell_type": "code",
   "execution_count": 6,
   "id": "505655e0",
   "metadata": {},
   "outputs": [],
   "source": [
    "car1.window=5\n",
    "car1.door=4"
   ]
  },
  {
   "cell_type": "code",
   "execution_count": 7,
   "id": "95607a5e",
   "metadata": {},
   "outputs": [
    {
     "data": {
      "text/plain": [
       "4"
      ]
     },
     "execution_count": 7,
     "metadata": {},
     "output_type": "execute_result"
    }
   ],
   "source": [
    "car1.door"
   ]
  },
  {
   "cell_type": "code",
   "execution_count": 8,
   "id": "381b16d1",
   "metadata": {},
   "outputs": [
    {
     "data": {
      "text/plain": [
       "5"
      ]
     },
     "execution_count": 8,
     "metadata": {},
     "output_type": "execute_result"
    }
   ],
   "source": [
    "car1.window"
   ]
  },
  {
   "cell_type": "code",
   "execution_count": 9,
   "id": "1c5601c9",
   "metadata": {},
   "outputs": [],
   "source": [
    "car2=Car()\n",
    "car2.door=2\n",
    "car2.window=3"
   ]
  },
  {
   "cell_type": "code",
   "execution_count": 10,
   "id": "5ba0f3f9",
   "metadata": {},
   "outputs": [
    {
     "data": {
      "text/plain": [
       "2"
      ]
     },
     "execution_count": 10,
     "metadata": {},
     "output_type": "execute_result"
    }
   ],
   "source": [
    "car2.door"
   ]
  },
  {
   "cell_type": "code",
   "execution_count": 12,
   "id": "8e6f2cb3",
   "metadata": {},
   "outputs": [
    {
     "data": {
      "text/plain": [
       "'petrol'"
      ]
     },
     "execution_count": 12,
     "metadata": {},
     "output_type": "execute_result"
    }
   ],
   "source": [
    "car2.engine_type=\"petrol\"\n",
    "car2.engine_type"
   ]
  },
  {
   "cell_type": "code",
   "execution_count": null,
   "id": "942c3e18",
   "metadata": {},
   "outputs": [],
   "source": []
  }
 ],
 "metadata": {
  "kernelspec": {
   "display_name": "Python 3 (ipykernel)",
   "language": "python",
   "name": "python3"
  },
  "language_info": {
   "codemirror_mode": {
    "name": "ipython",
    "version": 3
   },
   "file_extension": ".py",
   "mimetype": "text/x-python",
   "name": "python",
   "nbconvert_exporter": "python",
   "pygments_lexer": "ipython3",
   "version": "3.9.12"
  }
 },
 "nbformat": 4,
 "nbformat_minor": 5
}
