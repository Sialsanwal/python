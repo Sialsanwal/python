{
 "cells": [
  {
   "cell_type": "markdown",
   "id": "b2ed1102",
   "metadata": {},
   "source": [
    "# Advance Python Series- Inheritance In Python"
   ]
  },
  {
   "cell_type": "code",
   "execution_count": 12,
   "id": "4b8cae90",
   "metadata": {},
   "outputs": [],
   "source": [
    "## all the class variable are public\n",
    "## used _ for protected\n",
    "## used __ for private\n",
    "class Car():\n",
    "    def __init__(self,windows,doors,enginetype):\n",
    "        self.windows=windows\n",
    "        self.doors=doors\n",
    "        self.enginetype=enginetype\n",
    "    def drive(self):\n",
    "        print(\"The Person drive the car\")"
   ]
  },
  {
   "cell_type": "code",
   "execution_count": 13,
   "id": "dd92f318",
   "metadata": {},
   "outputs": [],
   "source": [
    "car=Car(6,4,\"diesel\")"
   ]
  },
  {
   "cell_type": "code",
   "execution_count": 14,
   "id": "53cbb1be",
   "metadata": {},
   "outputs": [
    {
     "data": {
      "text/plain": [
       "4"
      ]
     },
     "execution_count": 14,
     "metadata": {},
     "output_type": "execute_result"
    }
   ],
   "source": [
    "car.doors"
   ]
  },
  {
   "cell_type": "code",
   "execution_count": 15,
   "id": "d7c903a8",
   "metadata": {},
   "outputs": [
    {
     "data": {
      "text/plain": [
       "'diesel'"
      ]
     },
     "execution_count": 15,
     "metadata": {},
     "output_type": "execute_result"
    }
   ],
   "source": [
    "car.enginetype"
   ]
  },
  {
   "cell_type": "code",
   "execution_count": 16,
   "id": "63e37ca2",
   "metadata": {},
   "outputs": [
    {
     "data": {
      "text/plain": [
       "6"
      ]
     },
     "execution_count": 16,
     "metadata": {},
     "output_type": "execute_result"
    }
   ],
   "source": [
    "car.windows"
   ]
  },
  {
   "cell_type": "code",
   "execution_count": 17,
   "id": "3f5d0a59",
   "metadata": {},
   "outputs": [
    {
     "data": {
      "text/plain": [
       "['__class__',\n",
       " '__delattr__',\n",
       " '__dict__',\n",
       " '__dir__',\n",
       " '__doc__',\n",
       " '__eq__',\n",
       " '__format__',\n",
       " '__ge__',\n",
       " '__getattribute__',\n",
       " '__gt__',\n",
       " '__hash__',\n",
       " '__init__',\n",
       " '__init_subclass__',\n",
       " '__le__',\n",
       " '__lt__',\n",
       " '__module__',\n",
       " '__ne__',\n",
       " '__new__',\n",
       " '__reduce__',\n",
       " '__reduce_ex__',\n",
       " '__repr__',\n",
       " '__setattr__',\n",
       " '__sizeof__',\n",
       " '__str__',\n",
       " '__subclasshook__',\n",
       " '__weakref__',\n",
       " 'drive']"
      ]
     },
     "execution_count": 17,
     "metadata": {},
     "output_type": "execute_result"
    }
   ],
   "source": [
    "dir(Car)"
   ]
  },
  {
   "cell_type": "code",
   "execution_count": 18,
   "id": "7104427d",
   "metadata": {},
   "outputs": [
    {
     "name": "stdout",
     "output_type": "stream",
     "text": [
      "The Person drive the car\n"
     ]
    }
   ],
   "source": [
    " car.drive()"
   ]
  },
  {
   "cell_type": "code",
   "execution_count": null,
   "id": "a731f185",
   "metadata": {},
   "outputs": [],
   "source": []
  }
 ],
 "metadata": {
  "kernelspec": {
   "display_name": "Python 3 (ipykernel)",
   "language": "python",
   "name": "python3"
  },
  "language_info": {
   "codemirror_mode": {
    "name": "ipython",
    "version": 3
   },
   "file_extension": ".py",
   "mimetype": "text/x-python",
   "name": "python",
   "nbconvert_exporter": "python",
   "pygments_lexer": "ipython3",
   "version": "3.9.12"
  }
 },
 "nbformat": 4,
 "nbformat_minor": 5
}
