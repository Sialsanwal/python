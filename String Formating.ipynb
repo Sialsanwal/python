{
 "cells": [
  {
   "cell_type": "markdown",
   "id": "3bf0a239",
   "metadata": {},
   "source": [
    "# String Formating"
   ]
  },
  {
   "cell_type": "code",
   "execution_count": 1,
   "id": "524fc7bd",
   "metadata": {},
   "outputs": [
    {
     "name": "stdout",
     "output_type": "stream",
     "text": [
      "Hello Everyone\n"
     ]
    }
   ],
   "source": [
    "print(\"Hello Everyone\")"
   ]
  },
  {
   "cell_type": "code",
   "execution_count": 2,
   "id": "297b4edd",
   "metadata": {},
   "outputs": [],
   "source": [
    " def greeting(name):\n",
    "        return \"Hello {} Welcome to the community\".format(name)"
   ]
  },
  {
   "cell_type": "code",
   "execution_count": 4,
   "id": "e20574b1",
   "metadata": {},
   "outputs": [
    {
     "data": {
      "text/plain": [
       "'Hello sanwal Welcome to the community'"
      ]
     },
     "execution_count": 4,
     "metadata": {},
     "output_type": "execute_result"
    }
   ],
   "source": [
    "greeting(\"sanwal\")"
   ]
  },
  {
   "cell_type": "code",
   "execution_count": 5,
   "id": "2ea7483a",
   "metadata": {},
   "outputs": [],
   "source": [
    "def welcoming_msg(first_name,last_name):\n",
    "    return \"Welcome {} Everybody please welcome the {}\".format(first_name,last_name)"
   ]
  },
  {
   "cell_type": "code",
   "execution_count": 6,
   "id": "012e0bf0",
   "metadata": {},
   "outputs": [
    {
     "data": {
      "text/plain": [
       "'Welcome Sanwal Everybody please welcome the Khan'"
      ]
     },
     "execution_count": 6,
     "metadata": {},
     "output_type": "execute_result"
    }
   ],
   "source": [
    "welcoming_msg(\"Sanwal\", \"Khan\")"
   ]
  },
  {
   "cell_type": "code",
   "execution_count": 7,
   "id": "5467e176",
   "metadata": {},
   "outputs": [],
   "source": [
    "def welcome(name,age):\n",
    "    return \"Welcome your name is {name} and your age is {age}\".format(age=age,name=name)"
   ]
  },
  {
   "cell_type": "code",
   "execution_count": 8,
   "id": "0087954b",
   "metadata": {},
   "outputs": [
    {
     "data": {
      "text/plain": [
       "'Welcome your name is sanwal and your age is 22'"
      ]
     },
     "execution_count": 8,
     "metadata": {},
     "output_type": "execute_result"
    }
   ],
   "source": [
    "welcome(\"sanwal\",22)"
   ]
  },
  {
   "cell_type": "code",
   "execution_count": null,
   "id": "103c2d3b",
   "metadata": {},
   "outputs": [],
   "source": []
  }
 ],
 "metadata": {
  "kernelspec": {
   "display_name": "Python 3 (ipykernel)",
   "language": "python",
   "name": "python3"
  },
  "language_info": {
   "codemirror_mode": {
    "name": "ipython",
    "version": 3
   },
   "file_extension": ".py",
   "mimetype": "text/x-python",
   "name": "python",
   "nbconvert_exporter": "python",
   "pygments_lexer": "ipython3",
   "version": "3.9.12"
  }
 },
 "nbformat": 4,
 "nbformat_minor": 5
}
