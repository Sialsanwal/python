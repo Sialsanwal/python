{
 "cells": [
  {
   "cell_type": "markdown",
   "id": "2b0777da",
   "metadata": {},
   "source": [
    "# Map Function In Python"
   ]
  },
  {
   "cell_type": "code",
   "execution_count": 1,
   "id": "2ecd6374",
   "metadata": {},
   "outputs": [],
   "source": [
    "def even_odd(num):\n",
    "    if num%2==0:\n",
    "        return \"The {} number is even\".format(num)\n",
    "    else:\n",
    "        return \"The {} number is odd\".format(num)\n",
    "    "
   ]
  },
  {
   "cell_type": "code",
   "execution_count": 2,
   "id": "fd222c44",
   "metadata": {},
   "outputs": [
    {
     "data": {
      "text/plain": [
       "'The 5 number is odd'"
      ]
     },
     "execution_count": 2,
     "metadata": {},
     "output_type": "execute_result"
    }
   ],
   "source": [
    "even_odd(5)"
   ]
  },
  {
   "cell_type": "code",
   "execution_count": 3,
   "id": "aa6a0e72",
   "metadata": {},
   "outputs": [],
   "source": [
    "lis=[1,2,5,7,9,11,15,17,22,43,65,87,43]\n"
   ]
  },
  {
   "cell_type": "code",
   "execution_count": 5,
   "id": "e393bf80",
   "metadata": {},
   "outputs": [
    {
     "data": {
      "text/plain": [
       "['The 1 number is odd',\n",
       " 'The 2 number is even',\n",
       " 'The 5 number is odd',\n",
       " 'The 7 number is odd',\n",
       " 'The 9 number is odd',\n",
       " 'The 11 number is odd',\n",
       " 'The 15 number is odd',\n",
       " 'The 17 number is odd',\n",
       " 'The 22 number is even',\n",
       " 'The 43 number is odd',\n",
       " 'The 65 number is odd',\n",
       " 'The 87 number is odd',\n",
       " 'The 43 number is odd']"
      ]
     },
     "execution_count": 5,
     "metadata": {},
     "output_type": "execute_result"
    }
   ],
   "source": [
    "list(map(even_odd, lis))"
   ]
  },
  {
   "cell_type": "code",
   "execution_count": null,
   "id": "dead1d42",
   "metadata": {},
   "outputs": [],
   "source": []
  }
 ],
 "metadata": {
  "kernelspec": {
   "display_name": "Python 3 (ipykernel)",
   "language": "python",
   "name": "python3"
  },
  "language_info": {
   "codemirror_mode": {
    "name": "ipython",
    "version": 3
   },
   "file_extension": ".py",
   "mimetype": "text/x-python",
   "name": "python",
   "nbconvert_exporter": "python",
   "pygments_lexer": "ipython3",
   "version": "3.9.12"
  }
 },
 "nbformat": 4,
 "nbformat_minor": 5
}
