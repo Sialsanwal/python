{
 "cells": [
  {
   "cell_type": "markdown",
   "id": "515d37d2",
   "metadata": {},
   "source": [
    "# Function in Python\n",
    "- why function\n",
    "- function Defination\n",
    "- Positional and Keyword Arguments in Function"
   ]
  },
  {
   "cell_type": "code",
   "execution_count": 3,
   "id": "8e231e9f",
   "metadata": {},
   "outputs": [
    {
     "name": "stdout",
     "output_type": "stream",
     "text": [
      "The Number is Even\n"
     ]
    }
   ],
   "source": [
    "num=26\n",
    "if num%2==0:\n",
    "    print(\"The Number is Even\")\n",
    "else:\n",
    "    print(\"The Number is Odd\")"
   ]
  },
  {
   "cell_type": "code",
   "execution_count": 8,
   "id": "e4638b5b",
   "metadata": {},
   "outputs": [],
   "source": [
    "def even_odd(num):\n",
    "        if num%2==0:\n",
    "            print(\"The Number is Even\")\n",
    "        else:\n",
    "            print(\"The Number is Odd\")"
   ]
  },
  {
   "cell_type": "code",
   "execution_count": 9,
   "id": "1d329576",
   "metadata": {},
   "outputs": [
    {
     "name": "stdout",
     "output_type": "stream",
     "text": [
      "The Number is Odd\n"
     ]
    }
   ],
   "source": [
    "even_odd()"
   ]
  },
  {
   "cell_type": "code",
   "execution_count": 10,
   "id": "96850bd8",
   "metadata": {},
   "outputs": [],
   "source": [
    "def add_num(num1,num2):\n",
    "    return num1+num2"
   ]
  },
  {
   "cell_type": "code",
   "execution_count": 11,
   "id": "a6fe7e1d",
   "metadata": {},
   "outputs": [
    {
     "data": {
      "text/plain": [
       "5"
      ]
     },
     "execution_count": 11,
     "metadata": {},
     "output_type": "execute_result"
    }
   ],
   "source": [
    "add_num(2,3)"
   ]
  },
  {
   "cell_type": "code",
   "execution_count": 12,
   "id": "7fc4e2be",
   "metadata": {},
   "outputs": [],
   "source": [
    "## positional Argument\n",
    "## keyword argument\n",
    "\n",
    "def hello(name,age=20):\n",
    "    print(\"My name is {} and my age is {}\".format(name, age))"
   ]
  },
  {
   "cell_type": "code",
   "execution_count": 14,
   "id": "c2ed0cfc",
   "metadata": {},
   "outputs": [
    {
     "name": "stdout",
     "output_type": "stream",
     "text": [
      "My name is sanwal and my age is 20\n"
     ]
    }
   ],
   "source": [
    "hello('sanwal')"
   ]
  },
  {
   "cell_type": "code",
   "execution_count": 15,
   "id": "0049222c",
   "metadata": {},
   "outputs": [
    {
     "name": "stdout",
     "output_type": "stream",
     "text": [
      "My name is Sanwal and my age is 22\n"
     ]
    }
   ],
   "source": [
    "hello(\"Sanwal\", 22)"
   ]
  },
  {
   "cell_type": "code",
   "execution_count": 16,
   "id": "800e0758",
   "metadata": {},
   "outputs": [
    {
     "ename": "TypeError",
     "evalue": "hello() missing 1 required positional argument: 'name'",
     "output_type": "error",
     "traceback": [
      "\u001b[1;31m---------------------------------------------------------------------------\u001b[0m",
      "\u001b[1;31mTypeError\u001b[0m                                 Traceback (most recent call last)",
      "Input \u001b[1;32mIn [16]\u001b[0m, in \u001b[0;36m<cell line: 1>\u001b[1;34m()\u001b[0m\n\u001b[1;32m----> 1\u001b[0m \u001b[43mhello\u001b[49m\u001b[43m(\u001b[49m\u001b[43m)\u001b[49m\n",
      "\u001b[1;31mTypeError\u001b[0m: hello() missing 1 required positional argument: 'name'"
     ]
    }
   ],
   "source": [
    "hello()"
   ]
  },
  {
   "cell_type": "code",
   "execution_count": 17,
   "id": "c705fd17",
   "metadata": {},
   "outputs": [],
   "source": [
    "## *args used for positional argument\n",
    "## **kwaargs used for keyword argument\n",
    "\n",
    "def hello(*args,**kwargs):\n",
    "    print(args)\n",
    "    print(kwargs)"
   ]
  },
  {
   "cell_type": "code",
   "execution_count": 18,
   "id": "b57d6ead",
   "metadata": {},
   "outputs": [
    {
     "name": "stdout",
     "output_type": "stream",
     "text": [
      "('Sanwal', 'Khan')\n",
      "{'age': 22, 'dob': 1999}\n"
     ]
    }
   ],
   "source": [
    "hello(\"Sanwal\", \"Khan\", age=22, dob=1999)"
   ]
  },
  {
   "cell_type": "code",
   "execution_count": 21,
   "id": "cec10c4f",
   "metadata": {},
   "outputs": [],
   "source": [
    "li=[1,2,3,4,5,6,7,8,9,10]\n",
    "\n",
    "def even_odd_sum(li):\n",
    "    even_sum=0\n",
    "    odd_sum=0\n",
    "    for i in li:\n",
    "        if i%2==0:\n",
    "            even_sum=even_sum+i\n",
    "            "
   ]
  },
  {
   "cell_type": "code",
   "execution_count": null,
   "id": "bddc86f2",
   "metadata": {},
   "outputs": [],
   "source": []
  }
 ],
 "metadata": {
  "kernelspec": {
   "display_name": "Python 3 (ipykernel)",
   "language": "python",
   "name": "python3"
  },
  "language_info": {
   "codemirror_mode": {
    "name": "ipython",
    "version": 3
   },
   "file_extension": ".py",
   "mimetype": "text/x-python",
   "name": "python",
   "nbconvert_exporter": "python",
   "pygments_lexer": "ipython3",
   "version": "3.9.12"
  }
 },
 "nbformat": 4,
 "nbformat_minor": 5
}
