{
 "cells": [
  {
   "cell_type": "markdown",
   "id": "f81c6194",
   "metadata": {},
   "source": [
    "# Python Data Structure and Boolean\n",
    "\n",
    "- Boolean\n",
    "- Boolean and Logical Opeartor\n",
    "- Lists\n",
    "- Comparsion Opeartor\n",
    "- Dictionaires\n",
    "- Tuples\n",
    "- Set"
   ]
  },
  {
   "cell_type": "markdown",
   "id": "33a570a6",
   "metadata": {},
   "source": [
    "### Boolean"
   ]
  },
  {
   "cell_type": "code",
   "execution_count": 1,
   "id": "dadbd956",
   "metadata": {},
   "outputs": [
    {
     "name": "stdout",
     "output_type": "stream",
     "text": [
      "True False\n"
     ]
    }
   ],
   "source": [
    "print(True,False)"
   ]
  },
  {
   "cell_type": "code",
   "execution_count": 2,
   "id": "905eb7e6",
   "metadata": {},
   "outputs": [
    {
     "data": {
      "text/plain": [
       "bool"
      ]
     },
     "execution_count": 2,
     "metadata": {},
     "output_type": "execute_result"
    }
   ],
   "source": [
    "type(True)"
   ]
  },
  {
   "cell_type": "code",
   "execution_count": 23,
   "id": "0b1a616d",
   "metadata": {},
   "outputs": [],
   "source": [
    "my_str=\"Sanwal Khan\""
   ]
  },
  {
   "cell_type": "code",
   "execution_count": 24,
   "id": "3834cbce",
   "metadata": {},
   "outputs": [
    {
     "name": "stdout",
     "output_type": "stream",
     "text": [
      "Sanwal khan\n",
      "3\n",
      "True\n"
     ]
    }
   ],
   "source": [
    "print(my_str.capitalize())\n",
    "print(my_str.count(\"a\"))\n",
    "print(my_str.istitle())"
   ]
  },
  {
   "cell_type": "markdown",
   "id": "80802a68",
   "metadata": {},
   "source": [
    "### Boolean and Logical Opeartor "
   ]
  },
  {
   "cell_type": "code",
   "execution_count": 25,
   "id": "7c3c8631",
   "metadata": {},
   "outputs": [
    {
     "data": {
      "text/plain": [
       "False"
      ]
     },
     "execution_count": 25,
     "metadata": {},
     "output_type": "execute_result"
    }
   ],
   "source": [
    "True and False"
   ]
  },
  {
   "cell_type": "code",
   "execution_count": 26,
   "id": "126e609e",
   "metadata": {},
   "outputs": [
    {
     "data": {
      "text/plain": [
       "True"
      ]
     },
     "execution_count": 26,
     "metadata": {},
     "output_type": "execute_result"
    }
   ],
   "source": [
    "True and True"
   ]
  },
  {
   "cell_type": "code",
   "execution_count": 27,
   "id": "bc48ae46",
   "metadata": {},
   "outputs": [
    {
     "data": {
      "text/plain": [
       "True"
      ]
     },
     "execution_count": 27,
     "metadata": {},
     "output_type": "execute_result"
    }
   ],
   "source": [
    "True or False"
   ]
  },
  {
   "cell_type": "code",
   "execution_count": 28,
   "id": "4f0ee6c7",
   "metadata": {},
   "outputs": [
    {
     "data": {
      "text/plain": [
       "True"
      ]
     },
     "execution_count": 28,
     "metadata": {},
     "output_type": "execute_result"
    }
   ],
   "source": [
    "False or True"
   ]
  },
  {
   "cell_type": "code",
   "execution_count": 33,
   "id": "0b192b0c",
   "metadata": {},
   "outputs": [],
   "source": [
    "str_1=\"Hello World\"\n",
    "str_2=\"Sanwal\""
   ]
  },
  {
   "cell_type": "code",
   "execution_count": 34,
   "id": "90ac8c46",
   "metadata": {},
   "outputs": [
    {
     "data": {
      "text/plain": [
       "False"
      ]
     },
     "execution_count": 34,
     "metadata": {},
     "output_type": "execute_result"
    }
   ],
   "source": [
    "str_1.isalpha() and str_2.isnumeric()"
   ]
  },
  {
   "cell_type": "code",
   "execution_count": 36,
   "id": "08055933",
   "metadata": {},
   "outputs": [
    {
     "data": {
      "text/plain": [
       "True"
      ]
     },
     "execution_count": 36,
     "metadata": {},
     "output_type": "execute_result"
    }
   ],
   "source": [
    "str_2.isalpha()"
   ]
  },
  {
   "cell_type": "markdown",
   "id": "32790860",
   "metadata": {},
   "source": [
    "## List\n",
    "- A list is a data structure in Python that is a mutable, or changeable, ordered sequence of elements. Each element or value that is inside of a list is called an item. Just as strings are defined as characters between quotes, lists are defined by having values between square brackets[  ]"
   ]
  },
  {
   "cell_type": "code",
   "execution_count": 38,
   "id": "0143b138",
   "metadata": {},
   "outputs": [],
   "source": [
    "Ist_list=[]"
   ]
  },
  {
   "cell_type": "code",
   "execution_count": 39,
   "id": "11857baa",
   "metadata": {},
   "outputs": [
    {
     "data": {
      "text/plain": [
       "list"
      ]
     },
     "execution_count": 39,
     "metadata": {},
     "output_type": "execute_result"
    }
   ],
   "source": [
    "type(Ist_list)"
   ]
  },
  {
   "cell_type": "code",
   "execution_count": 40,
   "id": "e5694640",
   "metadata": {},
   "outputs": [],
   "source": [
    "Ist_list=[\"Chemistry\",\"Physics\",\"Math\",100,200,300]"
   ]
  },
  {
   "cell_type": "code",
   "execution_count": 41,
   "id": "9ca65f08",
   "metadata": {},
   "outputs": [
    {
     "data": {
      "text/plain": [
       "6"
      ]
     },
     "execution_count": 41,
     "metadata": {},
     "output_type": "execute_result"
    }
   ],
   "source": [
    "len(Ist_list)"
   ]
  },
  {
   "cell_type": "code",
   "execution_count": null,
   "id": "c92edd39",
   "metadata": {},
   "outputs": [],
   "source": []
  }
 ],
 "metadata": {
  "kernelspec": {
   "display_name": "Python 3 (ipykernel)",
   "language": "python",
   "name": "python3"
  },
  "language_info": {
   "codemirror_mode": {
    "name": "ipython",
    "version": 3
   },
   "file_extension": ".py",
   "mimetype": "text/x-python",
   "name": "python",
   "nbconvert_exporter": "python",
   "pygments_lexer": "ipython3",
   "version": "3.9.12"
  }
 },
 "nbformat": 4,
 "nbformat_minor": 5
}
