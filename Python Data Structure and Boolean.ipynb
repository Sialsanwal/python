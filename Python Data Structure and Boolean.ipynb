{
 "cells": [
  {
   "cell_type": "markdown",
   "id": "f81c6194",
   "metadata": {},
   "source": [
    "# Python Data Structure and Boolean\n",
    "\n",
    "- Boolean\n",
    "- Boolean and Logical Opeartor\n",
    "- Lists\n",
    "- Comparsion Opeartor\n",
    "- Dictionaires\n",
    "- Tuples\n",
    "- Set"
   ]
  },
  {
   "cell_type": "markdown",
   "id": "33a570a6",
   "metadata": {},
   "source": [
    "### Boolean"
   ]
  },
  {
   "cell_type": "code",
   "execution_count": 1,
   "id": "dadbd956",
   "metadata": {},
   "outputs": [
    {
     "name": "stdout",
     "output_type": "stream",
     "text": [
      "True False\n"
     ]
    }
   ],
   "source": [
    "print(True,False)"
   ]
  },
  {
   "cell_type": "code",
   "execution_count": 2,
   "id": "905eb7e6",
   "metadata": {},
   "outputs": [
    {
     "data": {
      "text/plain": [
       "bool"
      ]
     },
     "execution_count": 2,
     "metadata": {},
     "output_type": "execute_result"
    }
   ],
   "source": [
    "type(True)"
   ]
  },
  {
   "cell_type": "code",
   "execution_count": 3,
   "id": "0b1a616d",
   "metadata": {},
   "outputs": [],
   "source": [
    "my_str=\"Sanwal Khan\""
   ]
  },
  {
   "cell_type": "code",
   "execution_count": 4,
   "id": "3834cbce",
   "metadata": {},
   "outputs": [
    {
     "name": "stdout",
     "output_type": "stream",
     "text": [
      "Sanwal khan\n",
      "3\n",
      "True\n"
     ]
    }
   ],
   "source": [
    "print(my_str.capitalize())\n",
    "print(my_str.count(\"a\"))\n",
    "print(my_str.istitle())"
   ]
  },
  {
   "cell_type": "markdown",
   "id": "80802a68",
   "metadata": {},
   "source": [
    "### Boolean and Logical Opeartor "
   ]
  },
  {
   "cell_type": "code",
   "execution_count": 5,
   "id": "7c3c8631",
   "metadata": {},
   "outputs": [
    {
     "data": {
      "text/plain": [
       "False"
      ]
     },
     "execution_count": 5,
     "metadata": {},
     "output_type": "execute_result"
    }
   ],
   "source": [
    "True and False"
   ]
  },
  {
   "cell_type": "code",
   "execution_count": 6,
   "id": "126e609e",
   "metadata": {},
   "outputs": [
    {
     "data": {
      "text/plain": [
       "True"
      ]
     },
     "execution_count": 6,
     "metadata": {},
     "output_type": "execute_result"
    }
   ],
   "source": [
    "True and True"
   ]
  },
  {
   "cell_type": "code",
   "execution_count": 7,
   "id": "bc48ae46",
   "metadata": {},
   "outputs": [
    {
     "data": {
      "text/plain": [
       "True"
      ]
     },
     "execution_count": 7,
     "metadata": {},
     "output_type": "execute_result"
    }
   ],
   "source": [
    "True or False"
   ]
  },
  {
   "cell_type": "code",
   "execution_count": 8,
   "id": "4f0ee6c7",
   "metadata": {},
   "outputs": [
    {
     "data": {
      "text/plain": [
       "True"
      ]
     },
     "execution_count": 8,
     "metadata": {},
     "output_type": "execute_result"
    }
   ],
   "source": [
    "False or True"
   ]
  },
  {
   "cell_type": "code",
   "execution_count": 9,
   "id": "0b192b0c",
   "metadata": {},
   "outputs": [],
   "source": [
    "str_1=\"Hello World\"\n",
    "str_2=\"Sanwal\""
   ]
  },
  {
   "cell_type": "code",
   "execution_count": 10,
   "id": "90ac8c46",
   "metadata": {},
   "outputs": [
    {
     "data": {
      "text/plain": [
       "False"
      ]
     },
     "execution_count": 10,
     "metadata": {},
     "output_type": "execute_result"
    }
   ],
   "source": [
    "str_1.isalpha() and str_2.isnumeric()"
   ]
  },
  {
   "cell_type": "code",
   "execution_count": 11,
   "id": "08055933",
   "metadata": {},
   "outputs": [
    {
     "data": {
      "text/plain": [
       "True"
      ]
     },
     "execution_count": 11,
     "metadata": {},
     "output_type": "execute_result"
    }
   ],
   "source": [
    "str_2.isalpha()"
   ]
  },
  {
   "cell_type": "markdown",
   "id": "32790860",
   "metadata": {},
   "source": [
    "## List\n",
    "- A list is a data structure in Python that is a mutable, or changeable, ordered sequence of elements. Each element or value that is inside of a list is called an item. Just as strings are defined as characters between quotes, lists are defined by having values between square brackets[  ]"
   ]
  },
  {
   "cell_type": "code",
   "execution_count": 12,
   "id": "0143b138",
   "metadata": {},
   "outputs": [],
   "source": [
    "Ist_list=[]"
   ]
  },
  {
   "cell_type": "code",
   "execution_count": 13,
   "id": "11857baa",
   "metadata": {},
   "outputs": [
    {
     "data": {
      "text/plain": [
       "list"
      ]
     },
     "execution_count": 13,
     "metadata": {},
     "output_type": "execute_result"
    }
   ],
   "source": [
    "type(Ist_list)"
   ]
  },
  {
   "cell_type": "code",
   "execution_count": 14,
   "id": "e5694640",
   "metadata": {},
   "outputs": [],
   "source": [
    "Ist_list=[\"Chemistry\",\"Physics\",\"Math\",100,200,300]"
   ]
  },
  {
   "cell_type": "code",
   "execution_count": 15,
   "id": "9ca65f08",
   "metadata": {},
   "outputs": [
    {
     "data": {
      "text/plain": [
       "6"
      ]
     },
     "execution_count": 15,
     "metadata": {},
     "output_type": "execute_result"
    }
   ],
   "source": [
    "len(Ist_list)"
   ]
  },
  {
   "cell_type": "markdown",
   "id": "4f2c7ea0",
   "metadata": {},
   "source": [
    "- Append used to add the element in the last of list"
   ]
  },
  {
   "cell_type": "code",
   "execution_count": 16,
   "id": "09b9dc09",
   "metadata": {},
   "outputs": [],
   "source": [
    "Ist_list.append(\"Bio\")"
   ]
  },
  {
   "cell_type": "code",
   "execution_count": 17,
   "id": "b81ec6b9",
   "metadata": {},
   "outputs": [
    {
     "data": {
      "text/plain": [
       "['Chemistry', 'Physics', 'Math', 100, 200, 300, 'Bio']"
      ]
     },
     "execution_count": 17,
     "metadata": {},
     "output_type": "execute_result"
    }
   ],
   "source": [
    "Ist_list"
   ]
  },
  {
   "cell_type": "code",
   "execution_count": 18,
   "id": "9503e6c6",
   "metadata": {},
   "outputs": [],
   "source": [
    "Ist_list.append(\"10\")"
   ]
  },
  {
   "cell_type": "code",
   "execution_count": 21,
   "id": "20e2415d",
   "metadata": {},
   "outputs": [
    {
     "data": {
      "text/plain": [
       "'10'"
      ]
     },
     "execution_count": 21,
     "metadata": {},
     "output_type": "execute_result"
    }
   ],
   "source": [
    "Ist_list.pop()"
   ]
  },
  {
   "cell_type": "code",
   "execution_count": 22,
   "id": "b7277ba3",
   "metadata": {},
   "outputs": [
    {
     "data": {
      "text/plain": [
       "['Chemistry', 'Physics', 'Math', 100, 200, 300, 'Bio']"
      ]
     },
     "execution_count": 22,
     "metadata": {},
     "output_type": "execute_result"
    }
   ],
   "source": [
    "Ist_list"
   ]
  },
  {
   "cell_type": "markdown",
   "id": "22d72065",
   "metadata": {},
   "source": [
    "- Insert used to to a specific order"
   ]
  },
  {
   "cell_type": "code",
   "execution_count": 23,
   "id": "5617b50b",
   "metadata": {},
   "outputs": [],
   "source": [
    "Ist_list.insert(0,\"Urdu\")"
   ]
  },
  {
   "cell_type": "code",
   "execution_count": 24,
   "id": "dcb75f18",
   "metadata": {},
   "outputs": [
    {
     "data": {
      "text/plain": [
       "['Urdu', 'Chemistry', 'Physics', 'Math', 100, 200, 300, 'Bio']"
      ]
     },
     "execution_count": 24,
     "metadata": {},
     "output_type": "execute_result"
    }
   ],
   "source": [
    "Ist_list"
   ]
  },
  {
   "cell_type": "code",
   "execution_count": 29,
   "id": "630e1616",
   "metadata": {},
   "outputs": [
    {
     "data": {
      "text/plain": [
       "['Urdu', 'Chemistry', 'Physics']"
      ]
     },
     "execution_count": 29,
     "metadata": {},
     "output_type": "execute_result"
    }
   ],
   "source": [
    "Ist_list[:3]"
   ]
  },
  {
   "cell_type": "code",
   "execution_count": 33,
   "id": "5b0ce871",
   "metadata": {},
   "outputs": [],
   "source": [
    "Ist_list.append([\"Hello\",\"World\"])"
   ]
  },
  {
   "cell_type": "code",
   "execution_count": 36,
   "id": "25118b4e",
   "metadata": {},
   "outputs": [
    {
     "data": {
      "text/plain": [
       "9"
      ]
     },
     "execution_count": 36,
     "metadata": {},
     "output_type": "execute_result"
    }
   ],
   "source": [
    "len(Ist_list)"
   ]
  },
  {
   "cell_type": "code",
   "execution_count": 37,
   "id": "80d32b29",
   "metadata": {},
   "outputs": [
    {
     "data": {
      "text/plain": [
       "['Urdu',\n",
       " 'Chemistry',\n",
       " 'Physics',\n",
       " 'Math',\n",
       " 100,\n",
       " 200,\n",
       " 300,\n",
       " 'Bio',\n",
       " ['Hello', 'World']]"
      ]
     },
     "execution_count": 37,
     "metadata": {},
     "output_type": "execute_result"
    }
   ],
   "source": [
    "Ist_list"
   ]
  },
  {
   "cell_type": "markdown",
   "id": "3f96d0d8",
   "metadata": {},
   "source": [
    "- Extend Method"
   ]
  },
  {
   "cell_type": "code",
   "execution_count": 40,
   "id": "042a4ce5",
   "metadata": {},
   "outputs": [],
   "source": [
    "li=[1,2,3,4,5]"
   ]
  },
  {
   "cell_type": "code",
   "execution_count": 41,
   "id": "8bd2e12c",
   "metadata": {},
   "outputs": [
    {
     "data": {
      "text/plain": [
       "[1, 2, 3, 4, 5, 6, 7]"
      ]
     },
     "execution_count": 41,
     "metadata": {},
     "output_type": "execute_result"
    }
   ],
   "source": [
    "li.extend([6,7])\n",
    "li"
   ]
  },
  {
   "cell_type": "code",
   "execution_count": 42,
   "id": "53e7725a",
   "metadata": {},
   "outputs": [
    {
     "data": {
      "text/plain": [
       "28"
      ]
     },
     "execution_count": 42,
     "metadata": {},
     "output_type": "execute_result"
    }
   ],
   "source": [
    "sum(li)"
   ]
  },
  {
   "cell_type": "markdown",
   "id": "1ba0442b",
   "metadata": {},
   "source": [
    "# Pop Method()"
   ]
  },
  {
   "cell_type": "code",
   "execution_count": 45,
   "id": "4ec244b6",
   "metadata": {},
   "outputs": [
    {
     "data": {
      "text/plain": [
       "7"
      ]
     },
     "execution_count": 45,
     "metadata": {},
     "output_type": "execute_result"
    }
   ],
   "source": [
    "li.pop()"
   ]
  },
  {
   "cell_type": "code",
   "execution_count": 46,
   "id": "5b367d8c",
   "metadata": {},
   "outputs": [
    {
     "data": {
      "text/plain": [
       "[1, 2, 3, 4, 5, 6]"
      ]
     },
     "execution_count": 46,
     "metadata": {},
     "output_type": "execute_result"
    }
   ],
   "source": [
    "li"
   ]
  },
  {
   "cell_type": "code",
   "execution_count": 47,
   "id": "1ba0eb90",
   "metadata": {},
   "outputs": [
    {
     "data": {
      "text/plain": [
       "1"
      ]
     },
     "execution_count": 47,
     "metadata": {},
     "output_type": "execute_result"
    }
   ],
   "source": [
    "li.pop(0)"
   ]
  },
  {
   "cell_type": "code",
   "execution_count": 48,
   "id": "c8c8375b",
   "metadata": {},
   "outputs": [
    {
     "data": {
      "text/plain": [
       "[2, 3, 4, 5, 6]"
      ]
     },
     "execution_count": 48,
     "metadata": {},
     "output_type": "execute_result"
    }
   ],
   "source": [
    "li"
   ]
  },
  {
   "cell_type": "markdown",
   "id": "08b6eede",
   "metadata": {},
   "source": [
    "# Count() Calculate the total occurance of value in a list"
   ]
  },
  {
   "cell_type": "code",
   "execution_count": 49,
   "id": "c9887a86",
   "metadata": {},
   "outputs": [
    {
     "data": {
      "text/plain": [
       "[2, 3, 4, 5, 6]"
      ]
     },
     "execution_count": 49,
     "metadata": {},
     "output_type": "execute_result"
    }
   ],
   "source": [
    "li"
   ]
  },
  {
   "cell_type": "code",
   "execution_count": 50,
   "id": "22b824ea",
   "metadata": {},
   "outputs": [],
   "source": [
    "li.append(2)"
   ]
  },
  {
   "cell_type": "code",
   "execution_count": 51,
   "id": "e0c9aef1",
   "metadata": {},
   "outputs": [],
   "source": [
    "li.extend([2,2])"
   ]
  },
  {
   "cell_type": "code",
   "execution_count": 52,
   "id": "2b342cd5",
   "metadata": {},
   "outputs": [
    {
     "data": {
      "text/plain": [
       "[2, 3, 4, 5, 6, 2, 2, 2]"
      ]
     },
     "execution_count": 52,
     "metadata": {},
     "output_type": "execute_result"
    }
   ],
   "source": [
    "li"
   ]
  },
  {
   "cell_type": "code",
   "execution_count": 53,
   "id": "13c5f482",
   "metadata": {},
   "outputs": [
    {
     "data": {
      "text/plain": [
       "4"
      ]
     },
     "execution_count": 53,
     "metadata": {},
     "output_type": "execute_result"
    }
   ],
   "source": [
    "li.count(2)"
   ]
  },
  {
   "cell_type": "code",
   "execution_count": 56,
   "id": "f188e2cc",
   "metadata": {},
   "outputs": [
    {
     "data": {
      "text/plain": [
       "3"
      ]
     },
     "execution_count": 56,
     "metadata": {},
     "output_type": "execute_result"
    }
   ],
   "source": [
    "li.index(5,0,-1)"
   ]
  },
  {
   "cell_type": "code",
   "execution_count": 57,
   "id": "fc553a9d",
   "metadata": {},
   "outputs": [
    {
     "data": {
      "text/plain": [
       "6"
      ]
     },
     "execution_count": 57,
     "metadata": {},
     "output_type": "execute_result"
    }
   ],
   "source": [
    "max(li)"
   ]
  },
  {
   "cell_type": "code",
   "execution_count": 58,
   "id": "89b5f375",
   "metadata": {},
   "outputs": [
    {
     "data": {
      "text/plain": [
       "2"
      ]
     },
     "execution_count": 58,
     "metadata": {},
     "output_type": "execute_result"
    }
   ],
   "source": [
    "min(li)"
   ]
  },
  {
   "cell_type": "code",
   "execution_count": 62,
   "id": "86f7edfc",
   "metadata": {},
   "outputs": [
    {
     "data": {
      "text/plain": [
       "[2, 2, 2, 6, 5, 4, 3, 2]"
      ]
     },
     "execution_count": 62,
     "metadata": {},
     "output_type": "execute_result"
    }
   ],
   "source": [
    "li.reverse()\n",
    "li"
   ]
  },
  {
   "cell_type": "code",
   "execution_count": null,
   "id": "6d004aff",
   "metadata": {},
   "outputs": [],
   "source": []
  }
 ],
 "metadata": {
  "kernelspec": {
   "display_name": "Python 3 (ipykernel)",
   "language": "python",
   "name": "python3"
  },
  "language_info": {
   "codemirror_mode": {
    "name": "ipython",
    "version": 3
   },
   "file_extension": ".py",
   "mimetype": "text/x-python",
   "name": "python",
   "nbconvert_exporter": "python",
   "pygments_lexer": "ipython3",
   "version": "3.9.12"
  }
 },
 "nbformat": 4,
 "nbformat_minor": 5
}
